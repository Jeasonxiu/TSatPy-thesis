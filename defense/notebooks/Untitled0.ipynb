{
 "metadata": {
  "name": ""
 },
 "nbformat": 3,
 "nbformat_minor": 0,
 "worksheets": [
  {
   "cells": [
    {
     "cell_type": "code",
     "collapsed": false,
     "input": [
      "dims = 3\n",
      "length = 10\n",
      "\n",
      "lineData = np.empty((dims, length))\n",
      "lineData[:, 0] = np.random.rand(dims)\n",
      "for index in range(1, length) :\n",
      "    # scaling the random numbers by 0.1 so\n",
      "    # movement is small compared to position.\n",
      "    # subtraction by 0.5 is to change the range to [-0.5, 0.5]\n",
      "    # to allow a line to move backwards.\n",
      "    step = ((np.random.rand(dims) - 0.5) * 0.1)\n",
      "    lineData[:, index] = lineData[:, index-1] + step\n",
      "\n",
      "lineData"
     ],
     "language": "python",
     "metadata": {},
     "outputs": [
      {
       "metadata": {},
       "output_type": "pyout",
       "prompt_number": 1,
       "text": [
        "array([[ 0.75720211,  0.74718355,  0.76199832,  0.81120784,  0.78488408,\n",
        "         0.7514288 ,  0.72207901,  0.70182893,  0.67413891,  0.72112972],\n",
        "       [ 0.47967236,  0.43142075,  0.46243714,  0.49393843,  0.49164275,\n",
        "         0.45236601,  0.46634398,  0.43994008,  0.47050365,  0.51430031],\n",
        "       [ 0.59108673,  0.63527947,  0.63076866,  0.67147668,  0.62409375,\n",
        "         0.67293944,  0.65609828,  0.62499028,  0.57906133,  0.52951011]])"
       ]
      }
     ],
     "prompt_number": 1
    },
    {
     "cell_type": "code",
     "collapsed": false,
     "input": [
      "np.random.rand(3,10)"
     ],
     "language": "python",
     "metadata": {},
     "outputs": [
      {
       "metadata": {},
       "output_type": "pyout",
       "prompt_number": 2,
       "text": [
        "array([[ 0.16986942,  0.83206202,  0.91216653,  0.93453495,  0.57750475,\n",
        "         0.09241297,  0.82722322,  0.63706143,  0.48126526,  0.72329103],\n",
        "       [ 0.32378598,  0.46079083,  0.33484699,  0.22296426,  0.79352775,\n",
        "         0.63730101,  0.06693648,  0.2130392 ,  0.10741641,  0.53869933],\n",
        "       [ 0.6537889 ,  0.14218846,  0.53219751,  0.42326513,  0.23419913,\n",
        "         0.79155497,  0.78010479,  0.38853618,  0.07818531,  0.25197476]])"
       ]
      }
     ],
     "prompt_number": 2
    },
    {
     "cell_type": "code",
     "collapsed": false,
     "input": [],
     "language": "python",
     "metadata": {},
     "outputs": []
    }
   ],
   "metadata": {}
  }
 ]
}