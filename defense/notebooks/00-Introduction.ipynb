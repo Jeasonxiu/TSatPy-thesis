{
 "metadata": {
  "celltoolbar": "Slideshow",
  "name": "",
  "signature": "sha256:73d9c86c1e57c6d1e9ab5b249cd1afb330978448fbaa8690902269b76dab6065"
 },
 "nbformat": 3,
 "nbformat_minor": 0,
 "worksheets": [
  {
   "cells": [
    {
     "cell_type": "markdown",
     "metadata": {
      "slideshow": {
       "slide_type": "notes"
      }
     },
     "source": [
      "<LINK rel=stylesheet type=\"text/css\" href=\"files/defense.css\">"
     ]
    },
    {
     "cell_type": "markdown",
     "metadata": {
      "slideshow": {
       "slide_type": "slide"
      }
     },
     "source": [
      "<h1>Welcome</h1>\n",
      "<h1>Development of a Modular Application for Analyzing Observer-Based Control Systems for NASA's Spin-Stabilized MMS Mission Spacecraft</h1>\n",
      "\n",
      "<p>UNH Mechanical Engineering - MS Thesis Defense</p>\n",
      "<p>Daniel R. Couture</p>\n",
      "<p>Prof. May-Win Thein</p>\n",
      "<p>May 1st, 2014</p>\n",
      "<p>Kingsbury Hall, W290</p>"
     ]
    },
    {
     "cell_type": "markdown",
     "metadata": {
      "slideshow": {
       "slide_type": "slide"
      }
     },
     "source": [
      "<h1>Thank You</h1>\n",
      "\n",
      "<ul>\n",
      "<li>Prof. Thein</li>\n",
      "<li>Prof. Fussell, Prof. Hatcher</li>\n",
      "<li>Heather</li>\n",
      "</ul>\n",
      "\n"
     ]
    },
    {
     "cell_type": "markdown",
     "metadata": {
      "slideshow": {
       "slide_type": "fragment"
      }
     },
     "source": [
      "<ul>\n",
      "<li><del>NASA Goddard MMS ADCS team</del></li>\n",
      "<li><del>NH Space Grant Consortium</del></li>\n",
      "</ul>\n"
     ]
    },
    {
     "cell_type": "markdown",
     "metadata": {
      "slideshow": {
       "slide_type": "slide"
      }
     },
     "source": [
      "<h1>Lesson Plan</h1>\n",
      "<ul>\n",
      "<li>What is MMS?</li>\n",
      "<li>The Question</li>\n",
      "<li>My Work</li>\n",
      "<ul>\n",
      "<li>&quot;Cool&quot; Things Learned</li>\n",
      "</ul>\n",
      "<li>Questions</li>\n",
      "<ul>\n",
      "<li>Softball Questions</li>\n",
      "<li><del>Hard Questions</del></li>\n",
      "</ul>\n",
      "<ul>"
     ]
    },
    {
     "cell_type": "markdown",
     "metadata": {
      "slideshow": {
       "slide_type": "slide"
      }
     },
     "source": [
      "<h1>What is MMS?</h1>\n",
      "<h2>Magnetospheric Multiscale Mission - Magnetic Reconnection</h2>"
     ]
    },
    {
     "cell_type": "markdown",
     "metadata": {
      "slideshow": {
       "slide_type": "fragment"
      }
     },
     "source": [
      "<iframe width=\"400\" height=\"300\" style=\"float: left\" src=\"//www.youtube.com/embed/i_x3s8ODaKg?start=20&end=40\" frameborder=\"0\" allowfullscreen></iframe>\n",
      "<div class=\"crop\" style=\"float: right;\">\n",
      "    <img src=\"files/figures/mms/mms_rendering.jpg\" alt=\"\" />\n",
      "</div>\n"
     ]
    },
    {
     "cell_type": "markdown",
     "metadata": {
      "slideshow": {
       "slide_type": "slide"
      }
     },
     "source": [
      "<h1>Neil Mushaweh (2005 UNH ME)</h1>\n",
      "<ul>\n",
      "<li>Simulated Boom Dynamics in MATLAB/Simulink Marc Mentat</li>\n",
      "<li>Marc Mentat</li>\n",
      "<ul>\n",
      "<li>Excellent FEA modeling</li>\n",
      "<li>Limited &lt;90 degree rotations</li>\n",
      "</ul>\n",
      "<li>MATLAB/Simulink</li>\n",
      "<ul>\n",
      "<li>Goto for control systems</li>\n",
      "<li>Don't have a model for the boom dynamics</li>\n",
      "</ul>\n",
      "</ul>"
     ]
    },
    {
     "cell_type": "markdown",
     "metadata": {
      "slideshow": {
       "slide_type": "slide"
      }
     },
     "source": [
      "<h1>The Question</h1>\n",
      "<div class=\"centering\">\n",
      "<div class=\"crop\" style=\"float: left;\">\n",
      "    <img src=\"files/figures/mms/mms_rendering.jpg\" alt=\"aoeu\" />\n",
      "</div>\n",
      "<div class=\"crop\" style=\"float: right;\">\n",
      "    <img src=\"files/figures/tablesat/vess_tablesat.jpg\" alt=\"...\" />\n",
      "</div>\n",
      "</div>"
     ]
    },
    {
     "cell_type": "markdown",
     "metadata": {
      "slideshow": {
       "slide_type": "slide"
      }
     },
     "source": [
      "<h2>UNH NASA MMS TableSat IA</h2>\n",
      "<div class=\"centering\">\n",
      "<div class=\"crop\" style=\"float: left\">\n",
      "    <img src=\"files/figures/tablesat/tsat_full_view.jpg\" alt=\"aoeu\" />\n",
      "</div>\n",
      "<div style=\"float: right\">\n",
      "<ul>\n",
      "<li>TableSat/MMS</li>\n",
      "<ul>\n",
      "<li>Limited 3-DOF Motion</li>\n",
      "<li>4 Spin-plane Double Probe (SDP) Booms</li>\n",
      "<li>1 Axial Double Probe (SDP) Booms</li>\n",
      "</ul>\n",
      "<li>Sensors</li>\n",
      "<ul>\n",
      "<li><del>Single Axis Gyro</del></li>\n",
      "<li><del>Accelerometers</del></li>\n",
      "<li>Coarse Sun Sensor</li>\n",
      "<li>Three-Axis Magnetometer</li>\n",
      "</ul>\n",
      "<li>Actuators</li>\n",
      "<ul>\n",
      "<li>2 Rotational Fans (1 CW, 1 CCW)</li>\n",
      "<li><del>2 Nutation Fans (1 Mx, 1 My)<del></li>\n",
      "</ul>\n",
      "</ul>\n",
      "</div>\n",
      "</div>"
     ]
    },
    {
     "cell_type": "markdown",
     "metadata": {
      "slideshow": {
       "slide_type": "slide"
      }
     },
     "source": [
      "<h1>Goals for TableSat IA</h1>\n",
      "\n",
      "<ul>\n",
      "<li>$\\omega_z = 3$ rpm</li>\n",
      "<li>Nutation Control</li>\n",
      "<li>Boom Dynamics Analysis</li>\n",
      "<ul>"
     ]
    },
    {
     "cell_type": "markdown",
     "metadata": {
      "slideshow": {
       "slide_type": "slide"
      }
     },
     "source": [
      "<h1>Goals for TableSat IA</h1>\n",
      "\n",
      "<ul>\n",
      "<li>$\\omega_z = 3$ rpm <div class=\"grade grade-A\">A</div></li>\n",
      "<li>Nutation Control <div class=\"grade grade-C\">C</div></li>\n",
      "<li>Boom Dynamics Analysis <div class=\"grade grade-F\">F</div></li>\n",
      "<ul>"
     ]
    },
    {
     "cell_type": "markdown",
     "metadata": {
      "slideshow": {
       "slide_type": "slide"
      }
     },
     "source": [
      "<h1>Constant 3 rpm Spin</h1>\n",
      "\n",
      "<h2>Controller: PID</h2>\n",
      "<div class=\"latex\">$$M_z(k) = K_p \\omega_{e}(k) + K_i \\sum^k_0  \\omega_{e}(k) + K_d [\\omega_{e}(k) - \\omega_{e}(k-1) ] \\\\ \\omega_{e} = \\omega_{z} - \\omega_{zd}$$</div>\n",
      "<p></p>\n",
      "<p></p>\n",
      "<a href='files/videos/tablesat/2008-08-15-TSat3-PID-Operation.MPG'>Rate Control Proof (8/15/2008)</a>\n",
      "\n"
     ]
    },
    {
     "cell_type": "markdown",
     "metadata": {
      "slideshow": {
       "slide_type": "slide"
      }
     },
     "source": [
      "<h1>Voltages to State - CSS</h1>\n",
      "\n",
      "<div class=\"latex\" style=\"float: left;\">$$\\begin{align}\n",
      "V_{css\\_x}  &= \\sum\\limits_{i=1}^6 (V_{css\\_i} - V_{css\\_base}) \\cos \\left( \\frac{2\\pi}{6} (i-1)\\right) \\\\\n",
      "    V_{css\\_y}  &= \\sum\\limits_{i=1}^6 (V_{css\\_i} - V_{css\\_base}) \\sin \\left( \\frac{2\\pi}{6} (i-1)\\right) \\\\\n",
      "    \\psi  &= \\tan^{-1} \\frac{V_{css\\_y}}{V_{css\\_x}}\n",
      "\\end{align}$$</div>\n",
      "\n",
      "<div class=\"crop\" style=\"float: right\">\n",
      "    <img src=\"files/figures/tablesat/css.png\" alt=\"\" />\n",
      "</div>\n"
     ]
    },
    {
     "cell_type": "markdown",
     "metadata": {
      "slideshow": {
       "slide_type": "slide"
      }
     },
     "source": [
      "<h1>Voltages to State - Three-Axis Magnetometer</h1>\n",
      "\n",
      "<div style=\"float: left\">\n",
      "<a href='files/videos/tablesat/magnetometer_calibration_data.avi'>Measure Nutation from the TAM</a>\n",
      "<p></p>\n",
      "<p></p>\n",
      "<p></p>\n",
      "\n",
      "<ul>\n",
      "<li>Nutation Control <div class=\"grade grade-C\">C</div></li>\n",
      "<li>Boom Dynamics Analysis <div class=\"grade grade-F\">F</div></li>\n",
      "<ul>\n",
      "</div>\n",
      "<div style=\"float: right\">\n",
      "    <img src=\"files/figures/tablesat/tam_raw.jpg\" alt=\"\" />\n",
      "</div>\n",
      "\n"
     ]
    },
    {
     "cell_type": "markdown",
     "metadata": {
      "slideshow": {
       "slide_type": "slide"
      }
     },
     "source": [
      "<h1>2008 to Now?</h1>"
     ]
    }
   ],
   "metadata": {}
  }
 ]
}