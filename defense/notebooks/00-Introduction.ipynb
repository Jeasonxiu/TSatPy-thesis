{
 "metadata": {
  "celltoolbar": "Slideshow",
  "name": "",
  "signature": "sha256:73d9c86c1e57c6d1e9ab5b249cd1afb330978448fbaa8690902269b76dab6065"
 },
 "nbformat": 3,
 "nbformat_minor": 0,
 "worksheets": [
  {
   "cells": [
    {
     "cell_type": "markdown",
     "metadata": {
      "slideshow": {
       "slide_type": "notes"
      }
     },
     "source": [
      "<LINK rel=stylesheet type=\"text/css\" href=\"files/defense.css\">"
     ]
    },
    {
     "cell_type": "markdown",
     "metadata": {
      "slideshow": {
       "slide_type": "slide"
      }
     },
     "source": [
      "<h1>Welcome</h1>\n",
      "<h2>Development of a Modular Application for Analyzing Observer-Based Control Systems for NASA's Spin-Stabilized MMS Mission Spacecraft</h2>\n",
      "\n",
      "<h2>Mechanical Engineering - MS Thesis Defense</h2>\n",
      "\n",
      "<h2>Daniel R. Couture</h2>\n",
      "\n",
      "<h2>Advisor: Prof Thein</h2>\n",
      "\n",
      "<p>May 1st, 2014</p><p>\n",
      "Kingsbury Hall, W290</p>"
     ]
    },
    {
     "cell_type": "markdown",
     "metadata": {
      "slideshow": {
       "slide_type": "slide"
      }
     },
     "source": [
      "<h1>Thank You</h1>\n",
      "\n",
      "<ul>\n",
      "<li>Prof. Thein\n",
      "<li>Prof. Fussell, Prof. Hatcher\n",
      "<li>Heather\n",
      "</ul>\n",
      "\n"
     ]
    },
    {
     "cell_type": "markdown",
     "metadata": {
      "slideshow": {
       "slide_type": "fragment"
      }
     },
     "source": [
      "<ul>\n",
      "<li><del>NASA Goddard MMS ADCS team</del>\n",
      "<li><del>NH Space Grant Consortium</del>\n",
      "</ul>\n"
     ]
    },
    {
     "cell_type": "markdown",
     "metadata": {
      "slideshow": {
       "slide_type": "slide"
      }
     },
     "source": [
      "<h1>Lesson Plan</h1>\n",
      "<ul>\n",
      "<li>What is MMS?\n",
      "<li>The Question\n",
      "<li>Our Solution\n",
      "<li>&quot;Cool&quot; Things Learned\n",
      "<li>Softball Questions\n",
      "<li>Hard Questions\n",
      "<ul>"
     ]
    },
    {
     "cell_type": "markdown",
     "metadata": {
      "slideshow": {
       "slide_type": "slide"
      }
     },
     "source": [
      "What is MMS?\n",
      "Magnetospheric Multiscale Mission\n",
      "Magnetic Reconnection"
     ]
    },
    {
     "cell_type": "markdown",
     "metadata": {
      "slideshow": {
       "slide_type": "fragment"
      }
     },
     "source": [
      "<div class=\"centering\">\n",
      "<iframe width=\"420\" height=\"315\" style=\"float: left;\" src=\"//www.youtube.com/embed/i_x3s8ODaKg?start=20&end=40\" frameborder=\"0\" allowfullscreen></iframe>\n",
      "<iframe width=\"420\" height=\"315\" style=\"float: right\" src=\"//www.youtube.com/embed/-WLlaS2zQHg\" frameborder=\"0\" allowfullscreen></iframe>\n",
      "</div>"
     ]
    },
    {
     "cell_type": "markdown",
     "metadata": {
      "slideshow": {
       "slide_type": "slide"
      }
     },
     "source": [
      "<h1>The Question</h1>\n",
      "<div class=\"centering\">\n",
      "<div class=\"crop\" style=\"float: left;\">\n",
      "    <img src=\"files/figures/mms/mms_rendering.jpg\" alt=\"aoeu\" />\n",
      "</div>\n",
      "<div class=\"crop\" style=\"float: right;\">\n",
      "    <img src=\"files/figures/tablesat/vess_tablesat.jpg\" alt=\"...\" />\n",
      "</div>\n",
      "</div>"
     ]
    },
    {
     "cell_type": "markdown",
     "metadata": {
      "slideshow": {
       "slide_type": "slide"
      }
     },
     "source": [
      "<h2>UNH NASA MMS TableSat IA</h2>\n",
      "<div class=\"centering\">\n",
      "<div class=\"crop\" style=\"float: left\">\n",
      "    <img src=\"files/figures/tablesat/tsat_full_view.jpg\" alt=\"aoeu\" />\n",
      "</div>\n",
      "<div style=\"float: right\">\n",
      "<ul>\n",
      "<li>TableSat/MMS\n",
      "<ul>\n",
      "<li>Limited 3-DOF Motion\n",
      "<li>4 Spin-place Double Probe (SDP) Booms\n",
      "<li>1 Axial Double Probe (SDP) Booms\n",
      "</ul>\n",
      "<li>Sensors\n",
      "<ul>\n",
      "<li><del>Single Axis Gyro</del>\n",
      "<li><del>Accelerometers</del>\n",
      "<li>Coarse Sun Sensor\n",
      "<li>Three-Axis Magnetometer\n",
      "</ul>\n",
      "<li>Actuators\n",
      "<ul>\n",
      "<li>2 Rotational Fans (1 CW, 1 CCW)\n",
      "<li><del>2 Nutation Fans (1 Mx, 1 My)<del>\n",
      "</ul>\n",
      "<li>Communication\n",
      "<ul>\n",
      "<li>UDP Packets\n",
      "</ul>\n",
      "</ul>\n",
      "</div>\n",
      "</div>"
     ]
    },
    {
     "cell_type": "markdown",
     "metadata": {
      "slideshow": {
       "slide_type": "slide"
      }
     },
     "source": [
      "<h1>Goals for TableSat IA</h1>\n",
      "\n",
      "<ul>\n",
      "<li>Constant 3rpm spin</li>\n",
      "<li>Nutation Control</li>\n",
      "<li>Boom Dynamics Analysis</li>\n",
      "<ul>"
     ]
    },
    {
     "cell_type": "markdown",
     "metadata": {
      "slideshow": {
       "slide_type": "slide"
      }
     },
     "source": [
      "<h1>Goals for TableSat IA</h1>\n",
      "\n",
      "<ul>\n",
      "<li>Constant 3rpm Spin <div class=\"grade grade-A\">A</div></li>\n",
      "<li>Nutation Control <div class=\"grade grade-C\">C</div></li>\n",
      "<li>Boom Dynamics Analysis <div class=\"grade grade-F\">F</div></li>\n",
      "<ul>"
     ]
    },
    {
     "cell_type": "markdown",
     "metadata": {
      "slideshow": {
       "slide_type": "slide"
      }
     },
     "source": [
      "<h1>Constant 3 $rpm$ Spin</h1>\n",
      "\n",
      "<a href='files/videos/tablesat/2008-08-15-TSat3-PID-Operation.MPG'>Rate Control Proof (8/15/2008)</a>\n",
      "\n",
      "<ul>\n",
      "<li>Controller: PID</li>\n",
      "<div class=\"latex\">$$M_z(k) = K_p \\omega_{e}(k) + K_i \\sum^k_0  \\omega_{e}(k) + K_d [\\omega_{e}(k) - \\omega_{e}(k-1) ] \\\\ \\omega_{e} = \\omega_{z} - \\omega_{zd}$$</div>\n",
      "<li>Measurement Options</li>\n",
      "<ul>\n",
      "<li>Gyroscope</li>\n",
      "<li>Three-Axis Magnetometer</li>\n",
      "<li>Coarse Sun Sensors</li>\n",
      "</ul>\n",
      "</ul>\n",
      "\n"
     ]
    },
    {
     "cell_type": "markdown",
     "metadata": {
      "slideshow": {
       "slide_type": "slide"
      }
     },
     "source": [
      "<h1>Voltages to State - CSS</h1>\n",
      "\n",
      "<div class=\"latex\" style=\"float: left;\">$$\\begin{align}\n",
      "V_{css\\_x}  &= \\sum\\limits_{i=1}^6 (V_{css\\_i} - V_{css\\_base}) \\cos \\left( \\frac{2\\pi}{6} (i-1)\\right) \\\\\n",
      "    V_{css\\_y}  &= \\sum\\limits_{i=1}^6 (V_{css\\_i} - V_{css\\_base}) \\sin \\left( \\frac{2\\pi}{6} (i-1)\\right) \\\\\n",
      "    \\psi  &= \\tan^{-1} \\frac{V_{css\\_y}}{V_{css\\_x}}\n",
      "\\end{align}$$</div>\n",
      "\n",
      "<div class=\"crop\" style=\"float: right\">\n",
      "    <img src=\"files/figures/tablesat/css.png\" alt=\"\" />\n",
      "</div>\n"
     ]
    },
    {
     "cell_type": "markdown",
     "metadata": {
      "slideshow": {
       "slide_type": "slide"
      }
     },
     "source": [
      "<h1>Voltages to State - Three-Axis Magnetometer</h1>\n",
      "\n",
      "<div style=\"float: left\">\n",
      "<a href='files/videos/tablesat/magnetometer_calibration_data.avi'>Measure Nutation from the TAM</a>\n",
      "\n",
      "<ul>\n",
      "<li>Nutation Control <div class=\"grade grade-C\">C</div></li>\n",
      "<li>Boom Dynamics Analysis <div class=\"grade grade-F\">F</div></li>\n",
      "<ul>\n",
      "</div>\n",
      "<div style=\"float: right\">\n",
      "    <img src=\"files/figures/tablesat/tam_raw.jpg\" alt=\"\" />\n",
      "</div>\n",
      "\n"
     ]
    },
    {
     "cell_type": "markdown",
     "metadata": {
      "slideshow": {
       "slide_type": "slide"
      }
     },
     "source": [
      "<h1>2008 to Now?</h1>"
     ]
    },
    {
     "cell_type": "markdown",
     "metadata": {
      "slideshow": {
       "slide_type": "fragment"
      }
     },
     "source": [
      "<blockquote>\n",
      "While attempting to rotate the satellite model at 3 rotations per minute about [the $z$-axis], the inability of the software to transform coordinates after 90 degrees of rotation caused the rotation to cease. When such constraints on coordinate transformations are removed, or when the coordinate system is changed to cylindrical coordinates, the model began to expand in the radial direction. These inaccurate simulation results indicate that there are numerical instabilities that occur in dynamic transient simulations in which rotational motion is experienced. <div class=\"grade-F\">This numerical instability was confirmed by MSC support engineers, and proven to be insurmountable in the scope of this research.</div> Overcoming this numerical instability in dynamic transient analysis through future research could have implications on several design and analysis situations in which coordinate transformations can cause inaccurate results. <p>~ Neil Mushaweh (2005)</p>\n",
      "</blockquote> \n",
      "\n"
     ]
    },
    {
     "cell_type": "markdown",
     "metadata": {
      "slideshow": {
       "slide_type": "slide"
      }
     },
     "source": [
      "<div class=\"crop\" style=\"float: left\">\n",
      "    <img src=\"files/figures/misc/MATLAB-logo.jpg\" alt=\"\" />\n",
      "</div>\n",
      "<div class=\"crop\" style=\"float: right\">\n",
      "    <img src=\"files/figures/misc/msc_logo.jpg\" alt=\"\" />\n",
      "</div>"
     ]
    },
    {
     "cell_type": "markdown",
     "metadata": {},
     "source": []
    },
    {
     "cell_type": "code",
     "collapsed": false,
     "input": [],
     "language": "python",
     "metadata": {},
     "outputs": [],
     "prompt_number": 9
    },
    {
     "cell_type": "code",
     "collapsed": false,
     "input": [],
     "language": "python",
     "metadata": {},
     "outputs": [],
     "prompt_number": 9
    },
    {
     "cell_type": "code",
     "collapsed": false,
     "input": [],
     "language": "python",
     "metadata": {},
     "outputs": [],
     "prompt_number": 9
    },
    {
     "cell_type": "code",
     "collapsed": false,
     "input": [],
     "language": "python",
     "metadata": {},
     "outputs": [],
     "prompt_number": 9
    },
    {
     "cell_type": "code",
     "collapsed": false,
     "input": [],
     "language": "python",
     "metadata": {},
     "outputs": [],
     "prompt_number": 9
    },
    {
     "cell_type": "code",
     "collapsed": false,
     "input": [],
     "language": "python",
     "metadata": {},
     "outputs": [],
     "prompt_number": 9
    },
    {
     "cell_type": "code",
     "collapsed": false,
     "input": [],
     "language": "python",
     "metadata": {},
     "outputs": [],
     "prompt_number": 9
    },
    {
     "cell_type": "code",
     "collapsed": false,
     "input": [],
     "language": "python",
     "metadata": {},
     "outputs": []
    }
   ],
   "metadata": {}
  }
 ]
}