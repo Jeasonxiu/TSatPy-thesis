{
 "metadata": {
  "name": "",
  "signature": "sha256:b2351ea2107e27ebf7dd2aeec4c10775421c3ab1ec2c6e8b97abb22bbbddcc4b"
 },
 "nbformat": 3,
 "nbformat_minor": 0,
 "worksheets": [
  {
   "cells": [
    {
     "cell_type": "code",
     "collapsed": false,
     "input": [
      "import matplotlib.pyplot as plt\n",
      "from mpl_toolkits.mplot3d import Axes3D\n",
      "plt.ion()"
     ],
     "language": "python",
     "metadata": {},
     "outputs": [],
     "prompt_number": 12
    },
    {
     "cell_type": "code",
     "collapsed": false,
     "input": [
      "class Body(object):\n",
      "    def __init__(self):\n",
      "        self.pts = {}\n",
      "\n",
      "    def add_path(self, name, pts):\n",
      "        self.pts[name] = pts"
     ],
     "language": "python",
     "metadata": {},
     "outputs": [],
     "prompt_number": 13
    },
    {
     "cell_type": "code",
     "collapsed": false,
     "input": [
      "class TSat(Body):\n",
      "\n",
      "    def __init__(self, radius):\n",
      "        super(TSat, self).__init__()\n",
      "        self.radius = radius\n",
      "        self.setup_body()\n",
      "        self.add_booms()\n",
      "\n",
      "    def add_booms(self):\n",
      "        boom_len = 1\n",
      "        count = 10\n",
      "        dx = boom_len / float(count)\n",
      "\n",
      "        zeros = np.empty(count + 1)\n",
      "        zeros.fill(0)\n",
      "\n",
      "        dots = []\n",
      "        for pos in xrange(count + 1):\n",
      "            dots.append(self.radius + dx * pos)\n",
      "\n",
      "        self.add_path('+x boom', [np.array(dots), zeros.copy(), zeros.copy()])\n",
      "        self.add_path('+y boom', [zeros.copy(), np.array(dots), zeros.copy()])\n",
      "        self.add_path('+z boom', [zeros.copy(), zeros.copy(), np.array(dots)])\n",
      "        self.add_path('-x boom', [-np.array(dots), zeros.copy(), zeros.copy()])\n",
      "        self.add_path('-y boom', [zeros.copy(), -np.array(dots), zeros.copy()])\n",
      "        self.add_path('-z boom', [zeros.copy(), zeros.copy(), -np.array(dots)])\n",
      "\n",
      "    def setup_body(self):\n",
      "\n",
      "\n",
      "        phi = np.linspace(0, 2 * np.pi, 100)\n",
      "        r = np.linspace(0, 1, 100)\n",
      "\n",
      "        x = 0.5 * np.outer(np.cos(phi), r)\n",
      "        y = 0.5 * np.outer(np.sin(phi), r)\n",
      "        z = np.zeros([100,100])\n",
      "\n",
      "        self.add_path('body', [x, y, z])"
     ],
     "language": "python",
     "metadata": {},
     "outputs": [],
     "prompt_number": 14
    },
    {
     "cell_type": "code",
     "collapsed": false,
     "input": [
      "class Model(object):\n",
      "    def __init__(self, data_model):\n",
      "        self.fig = plt.figure(figsize=(12, 8), dpi=80, facecolor='w', edgecolor='k')\n",
      "        self.ax = self.fig.add_subplot(111, projection='3d')\n",
      "\n",
      "        self.data_model = data_model\n",
      "        self.series = {}\n",
      "\n",
      "        for name, data in self.data_model.pts.iteritems():\n",
      "            if name == 'body':\n",
      "                self.series[name] = self.ax.plot_surface(*data, rstride=10, cstride=50, linewidth=1, alpha=1)\n",
      "            else:\n",
      "                self.series[name], = self.ax.plot(*data, color='blue', linewidth=3)\n",
      "\n",
      "        plt.draw()"
     ],
     "language": "python",
     "metadata": {},
     "outputs": [],
     "prompt_number": 19
    },
    {
     "cell_type": "code",
     "collapsed": false,
     "input": [
      "tsat = TSat(0.5)\n",
      "model = Model(tsat)\n",
      "plt.show()"
     ],
     "language": "python",
     "metadata": {},
     "outputs": [],
     "prompt_number": 24
    },
    {
     "cell_type": "code",
     "collapsed": false,
     "input": [
      "a = model.series['+x boom']\n",
      "a.set_data(np.random.rand(10),np.random.rand(10))"
     ],
     "language": "python",
     "metadata": {},
     "outputs": [],
     "prompt_number": 23
    },
    {
     "cell_type": "code",
     "collapsed": false,
     "input": [],
     "language": "python",
     "metadata": {},
     "outputs": []
    }
   ],
   "metadata": {}
  }
 ]
}