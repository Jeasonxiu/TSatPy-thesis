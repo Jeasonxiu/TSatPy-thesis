{
 "metadata": {
  "name": ""
 },
 "nbformat": 3,
 "nbformat_minor": 0,
 "worksheets": [
  {
   "cells": [
    {
     "cell_type": "markdown",
     "metadata": {
      "slideshow": {
       "slide_type": "-"
      }
     },
     "source": [
      "<LINK rel=stylesheet type=\"text/css\" href=\"files/defense.css\">"
     ]
    },
    {
     "cell_type": "markdown",
     "metadata": {
      "slideshow": {
       "slide_type": "slide"
      }
     },
     "source": [
      "<h1>The Math</h1>"
     ]
    },
    {
     "cell_type": "markdown",
     "metadata": {
      "slideshow": {
       "slide_type": "slide"
      }
     },
     "source": [
      "<h1>Body Rate Propagation</h1>\n",
      "\n",
      "\n",
      "<div style=\"float: left\">\n",
      "<h2>Euler's Moment Equations</h2>\n",
      "<div class=\"latex\">$$\n",
      "\\begin{align}\n",
      "    \\dot{\\omega}_{x}(t_{k}) & = \\frac{1}{I_x} \\left[ M_1(t_{k}) - (I_z - I_y) \\omega_{y}(t_k) \\omega_{z}(t_k) \\right] \\\\\n",
      "    \\dot{\\omega}_{y}(t_{k}) & = \\frac{1}{I_y} \\left[ M_2(t_{k}) - (I_x - I_z) \\omega_{x}(t_k) \\omega_{z}(t_k) \\right] \\\\\n",
      "    \\dot{\\omega}_{z}(t_{k}) & = \\frac{1}{I_z} \\left[ M_3(t_{k}) - (I_y - I_x) \\omega_{x}(t_k) \\omega_{y}(t_k) \\right]\n",
      "\\end{align}\n",
      "$$</div></div>\n",
      "\n",
      "<div style=\"float: right\">\n",
      "<h2>Big Assumptions</h2>\n",
      "<ul>\n",
      "<li>Rigid Body</li>\n",
      "<li>Measurement Noise</li>\n",
      "<li>Frictionless</li>\n",
      "<li>Parameter Uncertainty</li>\n",
      "<li>Center of Rotation = Center of Mass</li>\n",
      "<li>Actual Moment = Desired Moment</li>\n",
      "<ul>\n",
      "</div>\n",
      "\n",
      "\n"
     ]
    },
    {
     "cell_type": "markdown",
     "metadata": {
      "slideshow": {
       "slide_type": "slide"
      }
     },
     "source": [
      "<h1>Angular Position Propagation</h1>\n",
      "\n",
      "<div style=\"float: left\">\n",
      "<h2>Quaternon Propagation</h2>\n",
      "<div class=\"latex\">$$\n",
      "\\begin{align}\n",
      "  \\boldsymbol{\\dot{q}} &= \\frac{1}{2} \\boldsymbol{q} \\otimes \\boldsymbol{\\omega}\\\\\n",
      "  \\boldsymbol{q}(k+1) &= \\boldsymbol{q}(k) + \\boldsymbol{\\dot{q}}(k) \\Delta t\n",
      "\\end{align}\n",
      "$$</div></div>\n",
      "\n",
      "<div style=\"float: right\">\n",
      "<h2>What is a Quaternion?</h2>\n",
      "<div class=\"latex\">$$\n",
      "  \\boldsymbol{q} = \\begin{bmatrix} q_1 \\\\ q_2 \\\\ q_3 \\\\ q_0 \\end{bmatrix} = \\begin{bmatrix} \\hat{\\boldsymbol{e}} \\sin \\left( \\frac{-\\theta}{2} \\right) \\\\ \\cos \\left( \\frac{-\\theta}{2} \\right) \\end{bmatrix}\n",
      "$$</div></div>\n",
      "\n"
     ]
    },
    {
     "cell_type": "markdown",
     "metadata": {
      "slideshow": {
       "slide_type": "slide"
      }
     },
     "source": [
      "<div style=\"float: left\">\n",
      "    <h2>Starting Position</h2>\n",
      "    <div class=\"latex\">$$x = X, y = Y, \\text{ and } z = Z$$</div>\n",
      "    <img src=\"files/figures/quaternions/q_rotation_start.png\" alt=\"\" />\n",
      "</div>\n",
      "<div style=\"float: right\">\n",
      "    <h2>Final Position</h2>\n",
      "    <div class=\"latex\">$-161$ degree rotation about $\\boldsymbol{\\hat{e}} = [-0.38 \\ -0.07 \\ 0.92]$</div>\n",
      "    <img src=\"files/figures/quaternions/q_rotation_end.png\" alt=\"\" />\n",
      "</div>\n"
     ]
    },
    {
     "cell_type": "markdown",
     "metadata": {},
     "source": [
      "<h2>Valid Operations</h2>\n"
     ]
    },
    {
     "cell_type": "markdown",
     "metadata": {
      "slideshow": {
       "slide_type": "slide"
      }
     },
     "source": [
      "<h1>Quaternion Problems</h1>\n",
      "\n",
      "<table id=\"box-table-a\">\n",
      "<tr><th>Section</th><th>Given</th><th>Problem</th></tr>\n",
      "<tr><td>Propagation</td><td>Position $\\boldsymbol{q}(k)$ and velocity $\\boldsymbol{\\omega}(k)$</td><td>$\\boldsymbol{q}(k+1)$</td></tr>\n",
      "<tr><td>Estimator/Controller</td><td>Where we are $\\boldsymbol{\\hat{q}}$ and where we should be $\\boldsymbol{q}, \\boldsymbol{q}_d$</td><td>Calculate $k(\\boldsymbol{q}^* \\otimes \\boldsymbol{\\hat{q}})$ where $0 < k < 1$</td></tr>\n",
      "<tr><td>Controller</td><td>Estimated attitude $\\boldsymbol{\\hat{q}}$</td><td>Quantify nutation $\\boldsymbol{q}_n$</td></tr>\n",
      "<tr><td></td><td>Nutation $\\boldsymbol{q}_n$</td><td>Calculate nutation correction $\\boldsymbol{M}$</td></tr>\n",
      "</table>\n",
      "</div>\n"
     ]
    },
    {
     "cell_type": "code",
     "collapsed": false,
     "input": [],
     "language": "python",
     "metadata": {},
     "outputs": []
    }
   ],
   "metadata": {}
  }
 ]
}