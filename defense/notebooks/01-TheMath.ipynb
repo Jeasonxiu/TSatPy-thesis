{
 "metadata": {
  "name": ""
 },
 "nbformat": 3,
 "nbformat_minor": 0,
 "worksheets": [
  {
   "cells": [
    {
     "cell_type": "markdown",
     "metadata": {
      "slideshow": {
       "slide_type": "-"
      }
     },
     "source": [
      "<LINK rel=stylesheet type=\"text/css\" href=\"files/defense.css\">"
     ]
    },
    {
     "cell_type": "code",
     "collapsed": false,
     "input": [
      "import time\n",
      "import sys"
     ],
     "language": "python",
     "metadata": {},
     "outputs": [],
     "prompt_number": 73
    },
    {
     "cell_type": "markdown",
     "metadata": {
      "slideshow": {
       "slide_type": "slide"
      }
     },
     "source": [
      "<h1>The Math</h1>"
     ]
    },
    {
     "cell_type": "markdown",
     "metadata": {
      "slideshow": {
       "slide_type": "slide"
      }
     },
     "source": [
      "<h1>Body Rate Propagation</h1>\n",
      "\n",
      "\n",
      "<div style=\"float: left\">\n",
      "<h2>Euler's Moment Equations</h2>\n",
      "<div class=\"latex\">$$\n",
      "\\begin{align}\n",
      "    \\dot{\\omega}_{x}(t_{k}) & = \\frac{1}{I_x} \\left[ M_1(t_{k}) - (I_z - I_y) \\omega_{y}(t_k) \\omega_{z}(t_k) \\right] \\\\\n",
      "    \\dot{\\omega}_{y}(t_{k}) & = \\frac{1}{I_y} \\left[ M_2(t_{k}) - (I_x - I_z) \\omega_{x}(t_k) \\omega_{z}(t_k) \\right] \\\\\n",
      "    \\dot{\\omega}_{z}(t_{k}) & = \\frac{1}{I_z} \\left[ M_3(t_{k}) - (I_y - I_x) \\omega_{x}(t_k) \\omega_{y}(t_k) \\right]\n",
      "\\end{align}\n",
      "$$</div></div>\n",
      "\n",
      "<div style=\"float: right\">\n",
      "<h2>Big Assumptions</h2>\n",
      "<ul>\n",
      "<li>Rigid Body</li>\n",
      "<li>Measurement Noise</li>\n",
      "<li>Frictionless</li>\n",
      "<li>Parameter Uncertainty</li>\n",
      "<li>Center of Rotation = Center of Mass</li>\n",
      "<li>Actual Moment = Desired Moment</li>\n",
      "<ul>\n",
      "</div>\n",
      "\n",
      "\n"
     ]
    },
    {
     "cell_type": "markdown",
     "metadata": {
      "slideshow": {
       "slide_type": "slide"
      }
     },
     "source": [
      "<h1>Angular Position Propagation</h1>\n",
      "\n",
      "<div style=\"float: left\">\n",
      "<h2>Quaternon Propagation</h2>\n",
      "<div class=\"latex\">$$\n",
      "\\begin{align}\n",
      "  \\boldsymbol{\\dot{q}} &= \\frac{1}{2} \\boldsymbol{q} \\otimes \\boldsymbol{\\omega}\\\\\n",
      "  \\boldsymbol{q}(k+1) &= \\boldsymbol{q}(k) + \\boldsymbol{\\dot{q}}(k) \\Delta t\n",
      "\\end{align}\n",
      "$$</div></div>\n",
      "\n",
      "<div style=\"float: right\">\n",
      "<h2>What is a Quaternion?</h2>\n",
      "<div class=\"latex\">$$\n",
      "  \\boldsymbol{q} = \\begin{bmatrix} q_1 \\\\ q_2 \\\\ q_3 \\\\ q_0 \\end{bmatrix} = \\begin{bmatrix} \\hat{\\boldsymbol{e}} \\sin \\left( \\frac{-\\theta}{2} \\right) \\\\ \\cos \\left( \\frac{-\\theta}{2} \\right) \\end{bmatrix}\n",
      "$$</div></div>\n",
      "\n"
     ]
    },
    {
     "cell_type": "markdown",
     "metadata": {
      "slideshow": {
       "slide_type": "slide"
      }
     },
     "source": [
      "<div style=\"float: left\">\n",
      "    <h2>Starting Position</h2>\n",
      "    <div class=\"latex\">$$x = X, y = Y, \\text{ and } z = Z$$</div>\n",
      "    <img src=\"files/figures/quaternions/q_rotation_start.png\" alt=\"\" />\n",
      "</div>\n",
      "<div style=\"float: right\">\n",
      "    <h2>Final Position</h2>\n",
      "    <div class=\"latex\">$-161$ degree rotation about $\\boldsymbol{\\hat{e}} = [-0.38 \\ -0.07 \\ 0.92]$</div>\n",
      "    <img src=\"files/figures/quaternions/q_rotation_end.png\" alt=\"\" />\n",
      "</div>\n"
     ]
    },
    {
     "cell_type": "markdown",
     "metadata": {
      "slideshow": {
       "slide_type": "slide"
      }
     },
     "source": [
      "<h1>Valid Quaternion Operations</h1>\n",
      "\n",
      "<table class=\"box-table-a\">\n",
      "<tr><th>Operation</th><th>Does</th></tr>\n",
      "<tr><td>$$\n",
      "\\boldsymbol{q} = \\boldsymbol{a} \\otimes \\boldsymbol{b} = \\boldsymbol{a}_v b_0 + \\boldsymbol{b}_v a_0 + \\boldsymbol{a}_v \\times \\boldsymbol{b}_v + a_0 b_0 - \\boldsymbol{a}_v \\cdot \\boldsymbol{b}_v\n",
      "$$</td><td>&quot;Add&quot; rotation $\\boldsymbol{a}$ onto rotation $\\boldsymbol{b}$</td></tr>\n",
      "<tr><td>$$\\boldsymbol{q}_e = \\boldsymbol{q}^* \\otimes \\boldsymbol{\\hat{q}}$$</td><td>Gives the rotation that will move $\\boldsymbol{\\hat{q}}$ to $\\boldsymbol{q}$</td></tr>\n",
      "</table>\n"
     ]
    },
    {
     "cell_type": "markdown",
     "metadata": {
      "slideshow": {
       "slide_type": "slide"
      }
     },
     "source": [
      "<h1>Quaternion Problems</h1>\n",
      "\n",
      "<table class=\"box-table-a\">\n",
      "<tr><th>Section</th><th>Given</th><th>Problem</th></tr>\n",
      "<tr><td>Propagation</td><td>Position $\\boldsymbol{q}(k)$ and velocity $\\boldsymbol{\\omega}(k)$</td><td>Predict $\\boldsymbol{q}(k+1)$</td></tr>\n",
      "<tr><td>Estimator/Controller</td><td>Where we are $\\boldsymbol{\\hat{q}}$ and where we should be $\\boldsymbol{q}, \\boldsymbol{q}_d$</td><td>Calculate $k(\\boldsymbol{q}^* \\otimes \\boldsymbol{\\hat{q}})$ where $0 < k < 1$</td></tr>\n",
      "<tr><td>Controller</td><td>Estimated attitude $\\boldsymbol{\\hat{q}}$</td><td>Quantify nutation $\\boldsymbol{q}_n$ where $\\boldsymbol{\\hat{q}} = \\boldsymbol{q}_n \\otimes \\boldsymbol{q}_r$</td></tr>\n",
      "<tr><td></td><td>Nutation $\\boldsymbol{q}_n$</td><td>Calculate nutation correction $\\boldsymbol{M}$</td></tr>\n",
      "</table>\n"
     ]
    },
    {
     "cell_type": "markdown",
     "metadata": {},
     "source": [
      "<h1>Quaternion Problems</h1>\n",
      "\n",
      "<table class=\"box-table-a\">\n",
      "<tr><th>Section</th><th>Given</th><th>Problem</th></tr>\n",
      "<tr><td>Propagation</td><td>Position $\\boldsymbol{q}(k)$ and velocity $\\boldsymbol{\\omega}(k)$</td><td>Predict $\\boldsymbol{q}(k+1)$</td></tr>\n",
      "</table>\n",
      "\n",
      "<div style=\"float: left\">\n",
      "<div class=\"latex centering\">$$\n",
      "  \\begin{aligned}\n",
      "    \\boldsymbol{q}(t_{k+1}) &= ( \\boldsymbol{A} + \\boldsymbol{B} ) \\boldsymbol{q}(t_{k}) \\\\\n",
      "    \\text{where } \\boldsymbol{A} &= \\exp \\left( \\frac{\\Delta t_{k+1}}{2} \\boldsymbol{\\Omega} \\left[ \\boldsymbol{\\bar{\\omega}}(t_{k+1}) \\right] \\right)\\\\\n",
      "    \\boldsymbol{B} &= \\frac{1}{48} \\Delta t_{k+1}^2 \\Big(\n",
      "    \\boldsymbol{\\Omega} \\left[\\boldsymbol{\\omega}(t_{k+1}) \\right]\n",
      "    \\boldsymbol{\\Omega} \\left[\\boldsymbol{\\omega}(t_{k})   \\right] -\n",
      "    \\boldsymbol{\\Omega} \\left[\\boldsymbol{\\omega}(t_{k})   \\right]\n",
      "    \\boldsymbol{\\Omega} \\left[\\boldsymbol{\\omega}(t_{k+1}) \\right]\n",
      "      \\Big)\n",
      "  \\end{aligned}\n",
      "$$</div>\n",
      "<div class=\"cite\">Nikolas Trawny and Stergios I. Roumeliotis - Indirect Kalman Filter for 3D Attitude Estimation A Tutorial for Quaternion Algebra<a href=\"http://www-users.cs.umn.edu/~trawny/Publications/Quaternions_3D.pdf\">*</a></div></div>\n",
      "\n",
      "<iframe src=\"//player.vimeo.com/video/68018120\" width=\"500\" height=\"375\"  style=\"float: right\" frameborder=\"0\" webkitallowfullscreen mozallowfullscreen allowfullscreen></iframe>\n"
     ]
    },
    {
     "cell_type": "markdown",
     "metadata": {
      "slideshow": {
       "slide_type": "slide"
      }
     },
     "source": [
      "<h1>Quaternion Problems</h1>\n",
      "\n",
      "<table class=\"box-table-a\">\n",
      "<tr><th>Section</th><th>Given</th><th>Problem</th></tr>\n",
      "<tr><td>Estimator/Controller</td><td>Where we are $\\boldsymbol{\\hat{q}}$ and where we should be $\\boldsymbol{q}, \\boldsymbol{q}_d$</td><td>Calculate $k(\\boldsymbol{q}^* \\otimes \\boldsymbol{\\hat{q}})$ where $0 < k < 1$</td></tr>\n",
      "</table>\n",
      "\n",
      "<h2>Requirements for High Integrity</h2>\n",
      "<ul>\n",
      "<li>Adhere to the unit rotational quaternion restriction. (i.e. <strong>NEVER</strong> re-normalize)</li>\n",
      "<li>Do not modify the direction of the $\\boldsymbol{\\hat{e}}$ axis</li>\n",
      "<li>Scale $\\theta$ (not $q_0$) so a $4^o$ error can be intuitively scaled to down to a $1^o$ adjustment with a selected gain value of 0.25.</li>\n",
      "</ul>\n",
      "<h2>Theta Multiplier with Quaternion Vector Balancing (c)?</h2>\n",
      "<div class=\"centering\">\n",
      "<div class=\"latex\">$$\n",
      "  \\begin{aligned}\n",
      "    \\boldsymbol{\\psi}(\\boldsymbol{q}, k) &= \\begin{bmatrix} \\boldsymbol{v} / \\gamma \\\\ \\cos ( k \\cdot \\cos^{-1} (q_0))  \\end{bmatrix} \\\\\n",
      "    \\text{where } \\gamma &= \\sqrt{\\frac{\\boldsymbol{v} \\bullet \\boldsymbol{v}}{\\sin^2 ( k \\cdot \\cos^{-1} (q_0))}}\n",
      "   \\end{aligned}\n",
      "$$</div></div>"
     ]
    },
    {
     "cell_type": "markdown",
     "metadata": {
      "slideshow": {
       "slide_type": "slide"
      }
     },
     "source": [
      "<h1>Prove It!</h1>"
     ]
    },
    {
     "cell_type": "code",
     "collapsed": false,
     "input": [
      "from TSatPy.State import Quaternion\n",
      "from TSatPy.StateOperator import QuaternionGain\n",
      "\n",
      "def test(q_e, gain):\n",
      "    e_new, r_new = (QuaternionGain(gain) * q_e).to_rotation()\n",
      "    print_args = (gain*100, r_new, e_new[0,0], e_new[1,0], e_new[2,0])\n",
      "    sys.stdout.write(\"%d%% a %s radian rotation about [%g, %g, %g]^T\\n\" % print_args)\n",
      "    sys.stdout.flush()\n",
      "    time.sleep(0.2)\n",
      "\n",
      "# Pick any random rotational error here\n",
      "q_e = Quaternion([1,-2,4], radians=2.3)\n",
      "e, r = q_e.to_rotation()\n",
      "\n",
      "print \"Error quaternion is a %s radian rotation about [%g, %g, %g]^T\\n\" % (r, e[0,0], e[1,0], e[2,0])\n",
      "\n",
      "N = 10\n",
      "null = [test(q_e, gain/float(N)) for gain in xrange(1, N+1)]"
     ],
     "language": "python",
     "metadata": {
      "slideshow": {
       "slide_type": "subslide"
      }
     },
     "outputs": [
      {
       "output_type": "stream",
       "stream": "stdout",
       "text": [
        "Error quaternion is a 2.3 radian rotation about [-0.218218, 0.436436, -0.872872]^T\n",
        "\n",
        "10% a 0.23 radian rotation about [-0.218218, 0.436436, -0.872872]^T\n"
       ]
      },
      {
       "output_type": "stream",
       "stream": "stdout",
       "text": [
        "20% a 0.46 radian rotation about [-0.218218, 0.436436, -0.872872]^T\n"
       ]
      },
      {
       "output_type": "stream",
       "stream": "stdout",
       "text": [
        "30% a 0.69 radian rotation about [-0.218218, 0.436436, -0.872872]^T\n"
       ]
      },
      {
       "output_type": "stream",
       "stream": "stdout",
       "text": [
        "40% a 0.92 radian rotation about [-0.218218, 0.436436, -0.872872]^T\n"
       ]
      },
      {
       "output_type": "stream",
       "stream": "stdout",
       "text": [
        "50% a 1.15 radian rotation about [-0.218218, 0.436436, -0.872872]^T\n"
       ]
      },
      {
       "output_type": "stream",
       "stream": "stdout",
       "text": [
        "60% a 1.38 radian rotation about [-0.218218, 0.436436, -0.872872]^T\n"
       ]
      },
      {
       "output_type": "stream",
       "stream": "stdout",
       "text": [
        "70% a 1.61 radian rotation about [-0.218218, 0.436436, -0.872872]^T\n"
       ]
      },
      {
       "output_type": "stream",
       "stream": "stdout",
       "text": [
        "80% a 1.84 radian rotation about [-0.218218, 0.436436, -0.872872]^T\n"
       ]
      },
      {
       "output_type": "stream",
       "stream": "stdout",
       "text": [
        "90% a 2.07 radian rotation about [-0.218218, 0.436436, -0.872872]^T\n"
       ]
      },
      {
       "output_type": "stream",
       "stream": "stdout",
       "text": [
        "100% a 2.3 radian rotation about [-0.218218, 0.436436, -0.872872]^T\n"
       ]
      }
     ],
     "prompt_number": 84
    },
    {
     "cell_type": "markdown",
     "metadata": {
      "slideshow": {
       "slide_type": "slide"
      }
     },
     "source": [
      "<h1>Quaternion Problems</h1>\n",
      "\n",
      "<table class=\"box-table-a\">\n",
      "<tr><th>Section</th><th>Given</th><th>Problem</th></tr>\n",
      "<tr><td>Controller</td><td>Estimated attitude $\\boldsymbol{\\hat{q}}$</td><td>Quantify nutation $\\boldsymbol{q}_n$ where $\\boldsymbol{\\hat{q}} = \\boldsymbol{q}_n \\otimes \\boldsymbol{q}_r$</td></tr>\n",
      "</table>\n",
      "\n",
      "<div style=\"float: left\">\n",
      "    <h2>Quaternion $\\boldsymbol{\\hat{q}}$ defines the attitude as:</h2>\n",
      "    <img src=\"files/figures/quaternions/decompose_pre.png\" alt=\"\" />\n",
      "</div>\n",
      "<div style=\"float: right\">\n",
      "    <h2>Controller should only care about nutation $\\boldsymbol{q}_n$:</h2>\n",
      "    <img src=\"files/figures/quaternions/decompose_post.png\" alt=\"\" />\n",
      "</div>\n",
      "\n"
     ]
    },
    {
     "cell_type": "markdown",
     "metadata": {},
     "source": [
      "<h1>Decompose a Quaternion</h1>\n",
      "<div class=\"centering\">\n",
      "<div class=\"latex\">$$\n",
      "  \\begin{aligned}\n",
      "    \\boldsymbol{q} &= \\boldsymbol{q_n} \\otimes \\boldsymbol{q_r} \\\\\n",
      "    \\text{where } \\boldsymbol{q}_n &= \\begin{bmatrix} q_{1n} = Q \\cdot q_{2n} \\\\ q_{2n} = \\sqrt{ \\frac{1  - q_3^2 - q_0^2}{Q^2 + 1} } \\\\ 0 \\\\ q_{0n} = \\sqrt{q_3^2 + q_0^2} \\end{bmatrix} , \\boldsymbol{q}_r = \\begin{bmatrix} 0 \\\\ 0 \\\\ q_{3r} = \\frac{q_3}{q_{0n}} \\\\ q_{0r} = \\frac{q_0}{q_{0n}} \\end{bmatrix} \\\\\n",
      "    Q &= \\frac{q_{0}q_{1} - q_{2}q_{3}}{q_{0}q_{2} + q_{1}q_{3}}\n",
      "  \\end{aligned}\n",
      "$$</div></div>"
     ]
    },
    {
     "cell_type": "markdown",
     "metadata": {},
     "source": [
      "<h1>Prove It!</h1>"
     ]
    },
    {
     "cell_type": "code",
     "collapsed": false,
     "input": [
      "from TSatPy.State import Quaternion\n",
      "\n",
      "yaw = Quaternion([0,0,1], radians=0.2)\n",
      "pitch = Quaternion([0,1,0], radians=0.1)\n",
      "print(\"yaw:   %s\" % (yaw))\n",
      "print(\"pitch: %s\\n\" % (pitch))\n",
      "\n",
      "q = pitch * yaw\n",
      "print(\"q:     %s\\n\" % (q))\n",
      "\n",
      "\n",
      "q_r, q_n = q.decompose()\n",
      "print(\"q_r:   %s\" % (q_r))\n",
      "print(\"q_n:   %s\" % (q_n))"
     ],
     "language": "python",
     "metadata": {},
     "outputs": [
      {
       "output_type": "stream",
       "stream": "stdout",
       "text": [
        "yaw:   <Quaternion [-0 -0 -0.0998334], 0.995004>\n",
        "pitch: <Quaternion [-0 -0.0499792 -0], 0.99875>\n",
        "\n",
        "q:     <Quaternion [0.00498959 -0.0497295 -0.0997087], 0.993761>\n",
        "\n",
        "q_r:   <Quaternion [0 0 -0.0998334], 0.995004>\n",
        "q_n:   <Quaternion [-0 0.0499792 0], -0.99875>\n"
       ]
      }
     ],
     "prompt_number": 96
    },
    {
     "cell_type": "code",
     "collapsed": false,
     "input": [],
     "language": "python",
     "metadata": {},
     "outputs": []
    }
   ],
   "metadata": {}
  }
 ]
}