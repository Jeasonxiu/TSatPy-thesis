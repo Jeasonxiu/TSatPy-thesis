{
 "metadata": {
  "name": ""
 },
 "nbformat": 3,
 "nbformat_minor": 0,
 "worksheets": [
  {
   "cells": [
    {
     "cell_type": "markdown",
     "metadata": {},
     "source": [
      "<LINK rel=stylesheet type=\"text/css\" href=\"files/defense.css\">"
     ]
    },
    {
     "cell_type": "markdown",
     "metadata": {},
     "source": [
      "<h1>Conclusions</h1>\n",
      "\n",
      "* Rate control (check)\n",
      "* Experimental Attitude Control\n",
      "    * Actuators\n",
      "    * CSS, Three-Axis Magnetometer\n",
      "* Run-time Plotting to Python\n",
      "* Quaternion Attitude\n",
      "    * Theta Multiplier with Quaternion Vector Balancing\n",
      "    * Decomposing a Quaternion\n",
      "    * Quaternion to Moment Conversion\n",
      "* Sliding Mode Controller"
     ]
    }
   ],
   "metadata": {}
  }
 ]
}