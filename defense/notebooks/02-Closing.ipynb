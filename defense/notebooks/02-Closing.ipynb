{
 "metadata": {
  "name": ""
 },
 "nbformat": 3,
 "nbformat_minor": 0,
 "worksheets": [
  {
   "cells": [
    {
     "cell_type": "markdown",
     "metadata": {},
     "source": [
      "<LINK rel=stylesheet type=\"text/css\" href=\"files/defense.css\">"
     ]
    },
    {
     "cell_type": "markdown",
     "metadata": {
      "slideshow": {
       "slide_type": "slide"
      }
     },
     "source": [
      "<h1>Conclusions</h1>\n",
      "\n",
      "<p><strong>Good</strong></p>\n",
      "\n",
      "* Rate control\n",
      "* Run-time Plotting Tool\n",
      "* Quaternion Attitude\n",
      "    * Theta Multiplier with Quaternion Vector Balancing\n",
      "    * Decomposing a Quaternion\n",
      "    * Quaternion to Moment Conversion\n",
      "* Quaternion-Based\n",
      "    * PID/SMO State Estimation\n",
      "    * PID/SMC Control\n",
      "* Sliding Mode Controller**\n",
      "\n",
      "<p><strong>Less Good</strong></p>\n",
      "\n",
      "* Experimental Attitude Control\n",
      "    * Actuators\n",
      "    * CSS, Three-Axis Magnetometer\n",
      "\n"
     ]
    },
    {
     "cell_type": "markdown",
     "metadata": {
      "slideshow": {
       "slide_type": "slide"
      }
     },
     "source": [
      "<h1>TSatPy</h1>\n",
      "\n",
      "* **Quaternion Multiplicative Corrections**: Ensures numerical stability in rotating systems\n",
      "* **Adaptive Step Algorithms**: Corrects for inconsistent step sizes in simulations or experiments\n",
      "* **Quaternion Decomposition**: Decouples rotation and nutation control\n",
      "* **Theta Multiplier with Quaternion Vector Balancing**: Linearly scales quaternion attitude measures used in state corrections without violating the unit quaternion restriction\n",
      "* **Euler Axis Based Moments**: Utilizes the quaternion's Euler axis and angular displacement to calculate linearly scaled control moments\n",
      "\n",
      "<p>&nbsp;</p>\n",
      "\n",
      "* **Concurrent Estimation/Control Algorithms**: Evaluates  multiple estimation and control methods\n",
      "* **\"Run-time\" interface**: Enables access and visualization of the internal state of the control system during a test or simulation\n",
      "* **Variable System Clock**: Alters the speed of simulations to compress long simulations or inspect state changes is slow motion\n",
      "* **Python**: Written in a widely used and expressive language that is easy to learn, comes with \"batteries-included\", and is viable for high performance applications.\n",
      "* **Modular Design**: Additional estimation or control algorithms or system models can be written and plugged into the existing system\n",
      "* **Source Agnostic Control System**: Observer-based controller logic can be reused to control a variety of rotating system (simulated and physical)\n",
      "* **MIT License**: Software will be released publicly on acceptance of this thesis under as MIT License\n"
     ]
    },
    {
     "cell_type": "markdown",
     "metadata": {
      "slideshow": {
       "slide_type": "slide"
      }
     },
     "source": [
      "<h1>Future Work</h1>\n",
      "\n",
      "* Release the source code at https://github.com/MathYourLife under an MIT license.\n",
      "* Port the tPlot library from MATLAB to Python for enhanced visualizations\n",
      "* Investigate use of coarse sun sensors for nutation detection.\n",
      "* Develop a better filtering method such as an extended kalman filter.\n",
      "* Improve the gradient descent algorithm for parameter tuning.\n",
      "* Modify the Actuator module to operate pneumatic thrusters and calculate pulse width modulations instead of continuous variable voltages.\n",
      "* Complete the configuration of the python ADCS \"twisted\" daemon to open a RESTful API interface to query the system's state.\n",
      "* Upgrade the three-axis magnetometer nutation to one with a less noisy sensor readings.\n",
      "* Port the ADCS to a lighter test platform with less friction.\n",
      "* Investigate with estimator and/or controller scheduling.\n",
      "* Improve the unit test coverage on the TSatPy library.\n"
     ]
    },
    {
     "cell_type": "code",
     "collapsed": false,
     "input": [],
     "language": "python",
     "metadata": {},
     "outputs": []
    }
   ],
   "metadata": {}
  }
 ]
}