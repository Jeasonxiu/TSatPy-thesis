{
 "metadata": {
  "name": "",
  "signature": "sha256:3b093dabbf0c32f03ddc33ffeb3f36f55dcbcb83e8d1b0c451d5f279db994013"
 },
 "nbformat": 3,
 "nbformat_minor": 0,
 "worksheets": [
  {
   "cells": [
    {
     "cell_type": "code",
     "collapsed": false,
     "input": [
      "profile_dir = get_ipython().profile_dir.location\n",
      "profile_dir"
     ],
     "language": "python",
     "metadata": {},
     "outputs": [
      {
       "metadata": {},
       "output_type": "pyout",
       "prompt_number": 4,
       "text": [
        "u'/home/dcouture/.ipython/profile_default'"
       ]
      }
     ],
     "prompt_number": 4
    },
    {
     "cell_type": "code",
     "collapsed": false,
     "input": [
      "import os\n",
      "tgt = os.path.join( profile_dir, 'static', 'custom')\n",
      "!git clone https://github.com/ipython-contrib/IPython-notebook-extensions.git $tgt"
     ],
     "language": "python",
     "metadata": {},
     "outputs": [
      {
       "output_type": "stream",
       "stream": "stdout",
       "text": [
        "Cloning into '/home/dcouture/.ipython/profile_default/static/custom'...\r\n"
       ]
      },
      {
       "output_type": "stream",
       "stream": "stdout",
       "text": [
        "remote: Reusing existing pack: 787, done.\u001b[K\r\n"
       ]
      },
      {
       "output_type": "stream",
       "stream": "stdout",
       "text": [
        "Receiving objects:   0% (1/787)   \r",
        "Receiving objects:   1% (8/787)   \r",
        "Receiving objects:   2% (16/787)   \r",
        "Receiving objects:   3% (24/787)   \r",
        "Receiving objects:   4% (32/787)   \r",
        "Receiving objects:   5% (40/787)   \r",
        "Receiving objects:   6% (48/787)   \r",
        "Receiving objects:   7% (56/787)   \r",
        "Receiving objects:   8% (63/787)   \r",
        "Receiving objects:   9% (71/787)   \r",
        "Receiving objects:  10% (79/787)   \r",
        "Receiving objects:  11% (87/787)   \r",
        "Receiving objects:  12% (95/787)   \r",
        "Receiving objects:  13% (103/787)   \r",
        "Receiving objects:  14% (111/787)   \r",
        "Receiving objects:  15% (119/787)   \r",
        "Receiving objects:  16% (126/787)   \r",
        "Receiving objects:  17% (134/787)   \r",
        "Receiving objects:  18% (142/787)   \r",
        "Receiving objects:  19% (150/787)   \r",
        "Receiving objects:  20% (158/787)   \r",
        "Receiving objects:  21% (166/787)   \r",
        "Receiving objects:  22% (174/787)   \r",
        "Receiving objects:  23% (182/787)   \r",
        "Receiving objects:  24% (189/787)   \r",
        "Receiving objects:  25% (197/787)   \r",
        "Receiving objects:  26% (205/787)   \r"
       ]
      },
      {
       "output_type": "stream",
       "stream": "stdout",
       "text": [
        "Receiving objects:  27% (213/787)   \r",
        "Receiving objects:  28% (221/787)   \r",
        "Receiving objects:  29% (229/787)   \r",
        "Receiving objects:  30% (237/787)   \r",
        "Receiving objects:  31% (244/787)   \r"
       ]
      },
      {
       "output_type": "stream",
       "stream": "stdout",
       "text": [
        "Receiving objects:  31% (251/787), 1.48 MiB | 1.31 MiB/s   \r",
        "Receiving objects:  32% (252/787), 1.48 MiB | 1.31 MiB/s   \r"
       ]
      },
      {
       "output_type": "stream",
       "stream": "stdout",
       "text": [
        "Receiving objects:  33% (260/787), 1.48 MiB | 1.31 MiB/s   \r",
        "Receiving objects:  34% (268/787), 1.48 MiB | 1.31 MiB/s   \r",
        "Receiving objects:  35% (276/787), 1.48 MiB | 1.31 MiB/s   \r",
        "Receiving objects:  36% (284/787), 1.48 MiB | 1.31 MiB/s   \r",
        "Receiving objects:  37% (292/787), 1.48 MiB | 1.31 MiB/s   \r",
        "Receiving objects:  38% (300/787), 1.48 MiB | 1.31 MiB/s   \r",
        "Receiving objects:  39% (307/787), 1.48 MiB | 1.31 MiB/s   \r",
        "Receiving objects:  40% (315/787), 1.48 MiB | 1.31 MiB/s   \r",
        "Receiving objects:  41% (323/787), 1.48 MiB | 1.31 MiB/s   \r"
       ]
      },
      {
       "output_type": "stream",
       "stream": "stdout",
       "text": [
        "Receiving objects:  42% (331/787), 2.23 MiB | 1.25 MiB/s   \r"
       ]
      },
      {
       "output_type": "stream",
       "stream": "stdout",
       "text": [
        "Receiving objects:  43% (339/787), 2.23 MiB | 1.25 MiB/s   \r",
        "Receiving objects:  44% (347/787), 2.23 MiB | 1.25 MiB/s   \r",
        "Receiving objects:  45% (355/787), 2.23 MiB | 1.25 MiB/s   \r",
        "Receiving objects:  46% (363/787), 2.23 MiB | 1.25 MiB/s   \r",
        "Receiving objects:  47% (370/787), 2.23 MiB | 1.25 MiB/s   \r",
        "Receiving objects:  48% (378/787), 2.23 MiB | 1.25 MiB/s   \r",
        "Receiving objects:  49% (386/787), 2.23 MiB | 1.25 MiB/s   \r",
        "Receiving objects:  50% (394/787), 2.23 MiB | 1.25 MiB/s   \r",
        "Receiving objects:  51% (402/787), 2.23 MiB | 1.25 MiB/s   \r",
        "Receiving objects:  52% (410/787), 2.23 MiB | 1.25 MiB/s   \r",
        "Receiving objects:  53% (418/787), 2.23 MiB | 1.25 MiB/s   \r",
        "Receiving objects:  54% (425/787), 2.23 MiB | 1.25 MiB/s   \r",
        "Receiving objects:  55% (433/787), 2.23 MiB | 1.25 MiB/s   \r",
        "Receiving objects:  56% (441/787), 2.23 MiB | 1.25 MiB/s   \r",
        "Receiving objects:  57% (449/787), 2.23 MiB | 1.25 MiB/s   \r",
        "Receiving objects:  58% (457/787), 2.23 MiB | 1.25 MiB/s   \r",
        "Receiving objects:  59% (465/787), 2.23 MiB | 1.25 MiB/s   \r",
        "Receiving objects:  60% (473/787), 2.23 MiB | 1.25 MiB/s   \r",
        "Receiving objects:  61% (481/787), 2.23 MiB | 1.25 MiB/s   \r",
        "Receiving objects:  62% (488/787), 2.23 MiB | 1.25 MiB/s   \r",
        "Receiving objects:  63% (496/787), 2.23 MiB | 1.25 MiB/s   \r",
        "Receiving objects:  64% (504/787), 2.23 MiB | 1.25 MiB/s   \r",
        "Receiving objects:  65% (512/787), 2.23 MiB | 1.25 MiB/s   \r",
        "Receiving objects:  66% (520/787), 2.23 MiB | 1.25 MiB/s   \r",
        "Receiving objects:  67% (528/787), 2.23 MiB | 1.25 MiB/s   \r",
        "Receiving objects:  68% (536/787), 2.23 MiB | 1.25 MiB/s   \r",
        "Receiving objects:  69% (544/787), 2.23 MiB | 1.25 MiB/s   \r",
        "Receiving objects:  70% (551/787), 2.23 MiB | 1.25 MiB/s   \r",
        "Receiving objects:  71% (559/787), 2.23 MiB | 1.25 MiB/s   \r",
        "Receiving objects:  72% (567/787), 2.23 MiB | 1.25 MiB/s   \r",
        "Receiving objects:  73% (575/787), 2.23 MiB | 1.25 MiB/s   \r",
        "Receiving objects:  74% (583/787), 2.23 MiB | 1.25 MiB/s   \r",
        "Receiving objects:  75% (591/787), 2.23 MiB | 1.25 MiB/s   \r",
        "Receiving objects:  76% (599/787), 2.23 MiB | 1.25 MiB/s   \r",
        "Receiving objects:  77% (606/787), 2.23 MiB | 1.25 MiB/s   \r",
        "Receiving objects:  78% (614/787), 2.23 MiB | 1.25 MiB/s   \r",
        "Receiving objects:  79% (622/787), 2.23 MiB | 1.25 MiB/s   \r",
        "Receiving objects:  80% (630/787), 2.23 MiB | 1.25 MiB/s   \r",
        "Receiving objects:  81% (638/787), 2.23 MiB | 1.25 MiB/s   \r",
        "Receiving objects:  82% (646/787), 2.23 MiB | 1.25 MiB/s   \r",
        "Receiving objects:  83% (654/787), 2.23 MiB | 1.25 MiB/s   \r",
        "Receiving objects:  84% (662/787), 2.23 MiB | 1.25 MiB/s   \r",
        "Receiving objects:  85% (669/787), 2.23 MiB | 1.25 MiB/s   \r",
        "Receiving objects:  86% (677/787), 2.23 MiB | 1.25 MiB/s   \r",
        "Receiving objects:  87% (685/787), 2.23 MiB | 1.25 MiB/s   \r",
        "Receiving objects:  88% (693/787), 2.23 MiB | 1.25 MiB/s   \r",
        "Receiving objects:  89% (701/787), 2.23 MiB | 1.25 MiB/s   \r",
        "Receiving objects:  90% (709/787), 2.23 MiB | 1.25 MiB/s   \r",
        "Receiving objects:  91% (717/787), 2.23 MiB | 1.25 MiB/s   \r",
        "remote: Total 787 (delta 0), reused 0 (delta 0)\u001b[K\r\n",
        "Receiving objects:  92% (725/787), 2.23 MiB | 1.25 MiB/s   \r",
        "Receiving objects:  93% (732/787), 2.23 MiB | 1.25 MiB/s   \r",
        "Receiving objects:  94% (740/787), 2.23 MiB | 1.25 MiB/s   \r",
        "Receiving objects:  95% (748/787), 2.23 MiB | 1.25 MiB/s   \r",
        "Receiving objects:  96% (756/787), 2.23 MiB | 1.25 MiB/s   \r",
        "Receiving objects:  97% (764/787), 2.23 MiB | 1.25 MiB/s   \r",
        "Receiving objects:  98% (772/787), 2.23 MiB | 1.25 MiB/s   \r",
        "Receiving objects:  99% (780/787), 2.23 MiB | 1.25 MiB/s   \r",
        "Receiving objects: 100% (787/787), 2.23 MiB | 1.25 MiB/s   \r",
        "Receiving objects: 100% (787/787), 2.63 MiB | 1.25 MiB/s, done.\r\n",
        "Resolving deltas:   0% (0/350)   \r",
        "Resolving deltas:   1% (4/350)   \r"
       ]
      },
      {
       "output_type": "stream",
       "stream": "stdout",
       "text": [
        "Resolving deltas:   3% (12/350)   \r",
        "Resolving deltas:   4% (14/350)   \r",
        "Resolving deltas:   5% (18/350)   \r",
        "Resolving deltas:   6% (24/350)   \r",
        "Resolving deltas:   7% (27/350)   \r",
        "Resolving deltas:  12% (45/350)   \r",
        "Resolving deltas:  13% (46/350)   \r",
        "Resolving deltas:  14% (49/350)   \r",
        "Resolving deltas:  23% (81/350)   \r",
        "Resolving deltas:  24% (84/350)   \r",
        "Resolving deltas:  27% (96/350)   \r",
        "Resolving deltas:  28% (98/350)   \r",
        "Resolving deltas:  29% (103/350)   \r",
        "Resolving deltas:  31% (109/350)   \r",
        "Resolving deltas:  32% (112/350)   \r",
        "Resolving deltas:  33% (116/350)   \r",
        "Resolving deltas:  34% (122/350)   \r",
        "Resolving deltas:  35% (123/350)   \r",
        "Resolving deltas:  36% (126/350)   \r",
        "Resolving deltas:  37% (130/350)   \r",
        "Resolving deltas:  38% (135/350)   \r",
        "Resolving deltas:  39% (137/350)   \r",
        "Resolving deltas:  40% (140/350)   \r",
        "Resolving deltas:  42% (148/350)   \r",
        "Resolving deltas:  43% (152/350)   \r",
        "Resolving deltas:  47% (165/350)   \r",
        "Resolving deltas:  48% (170/350)   \r",
        "Resolving deltas:  50% (175/350)   \r",
        "Resolving deltas:  53% (187/350)   \r",
        "Resolving deltas:  66% (233/350)   \r",
        "Resolving deltas:  67% (235/350)   \r",
        "Resolving deltas:  68% (238/350)   \r",
        "Resolving deltas:  71% (251/350)   \r",
        "Resolving deltas:  72% (253/350)   \r",
        "Resolving deltas:  76% (268/350)   \r",
        "Resolving deltas:  77% (272/350)   \r",
        "Resolving deltas:  78% (273/350)   \r",
        "Resolving deltas:  87% (306/350)   \r",
        "Resolving deltas:  89% (312/350)   \r",
        "Resolving deltas:  90% (317/350)   \r",
        "Resolving deltas:  91% (320/350)   \r",
        "Resolving deltas:  92% (323/350)   \r",
        "Resolving deltas:  93% (326/350)   \r",
        "Resolving deltas:  94% (329/350)   \r",
        "Resolving deltas:  95% (334/350)   \r",
        "Resolving deltas:  96% (336/350)   \r",
        "Resolving deltas:  97% (340/350)   \r",
        "Resolving deltas: 100% (350/350)   \r",
        "Resolving deltas: 100% (350/350), done.\r\n"
       ]
      },
      {
       "output_type": "stream",
       "stream": "stdout",
       "text": [
        "Checking connectivity... done\r\n"
       ]
      }
     ],
     "prompt_number": 5
    },
    {
     "cell_type": "code",
     "collapsed": false,
     "input": [
      "%cd $tgt\n",
      "!ls"
     ],
     "language": "python",
     "metadata": {},
     "outputs": [
      {
       "output_type": "stream",
       "stream": "stdout",
       "text": [
        "/home/dcouture/.ipython/profile_default/static/custom\n",
        "custom.example.js    hierarchical_collapse.js  README.md  styling  usability\r\n",
        "helper-functions.js  publishing\t\t       slidemode  testing  wiki-images\r\n"
       ]
      }
     ],
     "prompt_number": 7
    },
    {
     "cell_type": "code",
     "collapsed": false,
     "input": [
      "%%writefile custom.js\n",
      "// we want strict javascript that fails\n",
      "// on ambiguous syntax\n",
      "\"using strict\";\n",
      "\n",
      "// do not use notebook loaded  event as it is re-triggerd on\n",
      "// revert to checkpoint but this allow extesnsion to be loaded\n",
      "// late enough to work.\n",
      "//\n",
      "\n",
      "$([IPython.events]).on('app_initialized.NotebookApp', function(){\n",
      "\n",
      "\n",
      "    /**  Use path to js file relative to /static/ dir without leading slash, or\n",
      "     *  js extension.\n",
      "     *  Link directly to file is js extension.\n",
      "     *\n",
      "     *  first argument of require is a **list** that can contains several modules if needed.\n",
      "     **/\n",
      "\n",
      "    // require(['custom/noscroll']);\n",
      "    // require(['custom/clean_start'])\n",
      "    // require(['custom/toggle_all_line_number'])\n",
      "    // require(['custom/gist_it']);\n",
      "\n",
      "    /**\n",
      "     *  Link to entrypoint if extesnsion is a folder.\n",
      "     *  to be consistent with commonjs module, the entrypoint is main.js\n",
      "     *  here youcan also trigger a custom function on load that will do extra\n",
      "     *  action with the module if needed\n",
      "     **/\n",
      "     require(['custom/slidemode/main'],function(slidemode){\n",
      "    //     // do stuff\n",
      "     })\n",
      "\n",
      "});"
     ],
     "language": "python",
     "metadata": {},
     "outputs": []
    }
   ],
   "metadata": {}
  }
 ]
}