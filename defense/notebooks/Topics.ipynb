{
 "metadata": {
  "name": "",
  "signature": "sha256:5879930ea155de230402c2b5691893962b4d2f244ee7df72a0292ded473a3b97"
 },
 "nbformat": 3,
 "nbformat_minor": 0,
 "worksheets": [
  {
   "cells": [
    {
     "cell_type": "markdown",
     "metadata": {},
     "source": [
      "# What is MMS?\n",
      "\n",
      "* Satellite\n",
      "\n",
      "# What is TableSat?\n",
      "\n",
      "# What is the problem?\n",
      "\n",
      "# How does my research address the problem?\n",
      "\n",
      "# What did I learn?\n",
      "\n",
      "# Q+A"
     ]
    },
    {
     "cell_type": "code",
     "collapsed": false,
     "input": [],
     "language": "python",
     "metadata": {},
     "outputs": []
    }
   ],
   "metadata": {}
  }
 ]
}