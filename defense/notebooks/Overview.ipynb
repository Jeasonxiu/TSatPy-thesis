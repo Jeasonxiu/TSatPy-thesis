{
 "metadata": {
  "name": "",
  "signature": "sha256:d4fa458126460563d0bef24c179b6ee2d582818bd245af39e1dbc7c5cb8b1929"
 },
 "nbformat": 3,
 "nbformat_minor": 0,
 "worksheets": [
  {
   "cells": [
    {
     "cell_type": "code",
     "collapsed": false,
     "input": [],
     "language": "python",
     "metadata": {},
     "outputs": []
    },
    {
     "cell_type": "code",
     "collapsed": false,
     "input": [],
     "language": "python",
     "metadata": {},
     "outputs": []
    }
   ],
   "metadata": {}
  }
 ]
}