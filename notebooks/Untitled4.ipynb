{
 "metadata": {
  "name": "",
  "signature": "sha256:7ca539ead8eb918a74c9ffd7e6dc1deef5ff03b6fe2a2f6e42097410f47d4388"
 },
 "nbformat": 3,
 "nbformat_minor": 0,
 "worksheets": [
  {
   "cells": [
    {
     "cell_type": "code",
     "collapsed": false,
     "input": [
      "import numpy as np\n",
      "import matplotlib.pyplot as plt\n",
      "import matplotlib.animation as animation\n",
      "from mpl_toolkits.mplot3d import Axes3D\n",
      "\n",
      "def simData():\n",
      "# this function is called as the argument for\n",
      "# the simPoints function. This function contains\n",
      "# (or defines) and iterator---a device that computes\n",
      "# a value, passes it back to the main program, and then\n",
      "# returns to exactly where it left off in the function upon the\n",
      "# next call. I believe that one has to use this method to animate\n",
      "# a function using the matplotlib animation package.\n",
      "#\n",
      "    t_max = 10.0\n",
      "    dt = 0.05\n",
      "    x = 0.0\n",
      "    t = 0.0\n",
      "    while t < t_max:\n",
      "        x = np.sin(np.pi*t)\n",
      "        t = t + dt\n",
      "        yield x, t, 0\n",
      " \n",
      "def simPoints(simData):\n",
      "    x, t, z = simData[0], simData[1], simData[2]\n",
      "    time_text.set_text(time_template%(t))\n",
      "    line.set_data(data[0:2, t:t+1])\n",
      "    line.set_3d_properties(data[2, t:t+1])\n",
      "#     line.set_data([t, x, z])\n",
      "#     line2.set_data([t, -x, z])\n",
      "    return line, line2, time_text\n",
      "\n",
      "##\n",
      "##   set up figure for plotting:\n",
      "##\n",
      "fig = plt.figure()\n",
      "ax = fig.add_subplot(111, projection='3d', aspect='equal')\n",
      "# I'm still unfamiliar with the following line of code:\n",
      "data = np.random.rand(3,30)\n",
      "data[0:2, :5]\n",
      "\n",
      "line, = ax.plot(data[0, 0:1], data[1, 0:1], data[2, 0:1], 'bo', ms=10)\n",
      "# line2, = ax.plot(np.random.rand(3,3), 'ro', ms=10)\n",
      "ax.set_ylim(-1, 1)\n",
      "ax.set_xlim(0, 10)\n",
      "ax.set_zlim(-1, 1)\n",
      "##\n",
      "time_template = 'Time = %.1f s'    # prints running simulation time\n",
      "time_text = ax.text(0.05, 0.9, 0, '', transform=ax.transAxes)\n",
      "## Now call the animation package: (simData is the user function\n",
      "## serving as the argument for simPoints):\n",
      "ani = animation.FuncAnimation(fig, simPoints, simData, blit=False, interval=100, repeat=True)\n",
      "plt.show()"
     ],
     "language": "python",
     "metadata": {},
     "outputs": [
      {
       "output_type": "stream",
       "stream": "stderr",
       "text": [
        "/usr/lib/python3/dist-packages/gi/overrides/__init__.py:92: Warning: Source ID 2891 was not found when attempting to remove it\n",
        "  return fn(*args, **kwargs)\n"
       ]
      }
     ],
     "prompt_number": 33
    },
    {
     "cell_type": "code",
     "collapsed": false,
     "input": [
      "data = np.random.rand(3,30)\n",
      "data[0:2, 5:6]"
     ],
     "language": "python",
     "metadata": {},
     "outputs": [
      {
       "metadata": {},
       "output_type": "pyout",
       "prompt_number": 30,
       "text": [
        "array([[ 0.08395641],\n",
        "       [ 0.61578317]])"
       ]
      }
     ],
     "prompt_number": 30
    },
    {
     "cell_type": "code",
     "collapsed": false,
     "input": [],
     "language": "python",
     "metadata": {},
     "outputs": []
    }
   ],
   "metadata": {}
  }
 ]
}