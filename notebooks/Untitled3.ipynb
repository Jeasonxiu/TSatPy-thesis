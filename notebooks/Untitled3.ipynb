{
 "metadata": {
  "name": "",
  "signature": "sha256:6896b4fb5ac8809f5f5df0f8c00f6fdbaff92e61cd29eaa67610d6e43fbc78b7"
 },
 "nbformat": 3,
 "nbformat_minor": 0,
 "worksheets": [
  {
   "cells": [
    {
     "cell_type": "code",
     "collapsed": false,
     "input": [
      "import numpy as np\n",
      "import matplotlib.pyplot as plt\n",
      "import matplotlib.animation as animation\n",
      " \n",
      "def simData():\n",
      "# this function is called as the argument for\n",
      "# the simPoints function. This function contains\n",
      "# (or defines) and iterator---a device that computes\n",
      "# a value, passes it back to the main program, and then\n",
      "# returns to exactly where it left off in the function upon the\n",
      "# next call. I believe that one has to use this method to animate\n",
      "# a function using the matplotlib animation package.\n",
      "#\n",
      "    t_max = 10.0\n",
      "    dt = 0.05\n",
      "    x = 0.0\n",
      "    t = 0.0\n",
      "    while t < t_max:\n",
      "        x = np.sin(np.pi*t)\n",
      "        t = t + dt\n",
      "        yield x, t\n",
      " \n",
      "def simPoints(simData):\n",
      "    x, t = simData[0], simData[1]\n",
      "    time_text.set_text(time_template%(t))\n",
      "    line.set_data(t, x)\n",
      "    line2.set_data(t, -x)\n",
      "    return line, line2, time_text\n",
      "\n",
      "##\n",
      "##   set up figure for plotting:\n",
      "##\n",
      "fig = plt.figure()\n",
      "ax = fig.add_subplot(111)\n",
      "# I'm still unfamiliar with the following line of code:\n",
      "line, = ax.plot([], [], 'bo', ms=10)\n",
      "line2, = ax.plot([], [], 'ro', ms=10)\n",
      "ax.set_ylim(-1, 1)\n",
      "ax.set_xlim(0, 10)\n",
      "##\n",
      "time_template = 'Time = %.1f s'    # prints running simulation time\n",
      "time_text = ax.text(0.05, 0.9, '', transform=ax.transAxes)\n",
      "## Now call the animation package: (simData is the user function\n",
      "## serving as the argument for simPoints):\n",
      "ani = animation.FuncAnimation(fig, simPoints, simData, blit=False, interval=100, repeat=True)\n",
      "plt.show()"
     ],
     "language": "python",
     "metadata": {},
     "outputs": [
      {
       "output_type": "stream",
       "stream": "stderr",
       "text": [
        "/usr/lib/python3/dist-packages/gi/overrides/__init__.py:92: Warning: Source ID 706 was not found when attempting to remove it\n",
        "  return fn(*args, **kwargs)\n"
       ]
      }
     ],
     "prompt_number": 2
    },
    {
     "cell_type": "code",
     "collapsed": false,
     "input": [],
     "language": "python",
     "metadata": {},
     "outputs": []
    }
   ],
   "metadata": {}
  }
 ]
}