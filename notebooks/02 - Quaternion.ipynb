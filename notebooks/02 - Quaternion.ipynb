{
 "metadata": {
  "name": ""
 },
 "nbformat": 3,
 "nbformat_minor": 0,
 "worksheets": [
  {
   "cells": [
    {
     "cell_type": "code",
     "collapsed": false,
     "input": [
      "from IPython.display import Latex, display\n",
      "from IPython.core.display import Image\n",
      "from TSatPy.State import Quaternion, Identity\n",
      "def show(latex):\n",
      "    display(Latex(r'\\begin{equation}%s\\end{equation}' % latex))"
     ],
     "language": "python",
     "metadata": {},
     "outputs": [],
     "prompt_number": 2
    },
    {
     "cell_type": "heading",
     "level": 1,
     "metadata": {},
     "source": [
      "Quaternion"
     ]
    },
    {
     "cell_type": "markdown",
     "metadata": {},
     "source": [
      "A quaternion is a 4-tuple invented by William Rowan Hamilton.  His goal was to extend the concept of complex numbers into higher diminsions.  The commonly know complex number is a sum of one real number and one imaginary number.  Converting an imaginary number to a real can be accomplished by taking the square of the value.  $(1\\textbf{i} + 0)\\times(1\\textbf{i} + 0) = -1$\n",
      "\n",
      "Hamilton was unable to extend the concept into three dimensions, but was able to define a 4-tuple that behaved similarly to the common complex number such that $ \\textbf{i} \\otimes \\textbf{i} = \\textbf{j} \\otimes \\textbf{j} = \\textbf{k} \\otimes \\textbf{k} = \\textbf{i} \\otimes \\textbf{j} \\otimes \\textbf{k} = -1 $.\n",
      "\n",
      "The 4-tuple Hamilton discribed also follows the following definitions under multiplication."
     ]
    },
    {
     "cell_type": "markdown",
     "metadata": {},
     "source": [
      "$$\\begin{align}\n",
      "\\textbf{i} \\otimes \\textbf{j} &= \\textbf{k} \\\\\n",
      "\\textbf{j} \\otimes \\textbf{k} &= \\textbf{i} \\\\\n",
      "\\textbf{k} \\otimes \\textbf{i} &= \\textbf{j}\n",
      "\\end{align}$$"
     ]
    },
    {
     "cell_type": "markdown",
     "metadata": {},
     "source": [
      "![William Rowan Hamilton](files/figures/quaternions/220px-William_Rowan_Hamilton_portrait_oval_combined.png)"
     ]
    },
    {
     "cell_type": "code",
     "collapsed": false,
     "input": [
      "q = Quaternion([1, 4, 3], 4)\n",
      "show('q=%s' % q.latex())"
     ],
     "language": "python",
     "metadata": {},
     "outputs": [
      {
       "latex": [
        "\\begin{equation}q=1 \\textbf{i} +4 \\textbf{j} +3 \\textbf{k} +4\\end{equation}"
       ],
       "metadata": {},
       "output_type": "display_data",
       "text": [
        "<IPython.core.display.Latex at 0x30bec90>"
       ]
      }
     ],
     "prompt_number": 3
    },
    {
     "cell_type": "markdown",
     "metadata": {},
     "source": [
      "$$\\begin{align}\n",
      "\\textbf{i} \\otimes \\textbf{i} &= \\textbf{j} \\otimes \\textbf{j} = \\textbf{k} \\otimes \\textbf{k} = \\textbf{i} \\otimes \\textbf{j} \\otimes \\textbf{k} = -1 \\\\\n",
      "\\textbf{i} \\otimes \\textbf{j} &= \\textbf{k} \\\\\n",
      "\\textbf{j} \\otimes \\textbf{k} &= \\textbf{i} \\\\\n",
      "\\textbf{k} \\otimes \\textbf{i} &= \\textbf{j}\n",
      "\\end{align}$$\n"
     ]
    },
    {
     "cell_type": "heading",
     "level": 3,
     "metadata": {},
     "source": [
      "Multiplication"
     ]
    },
    {
     "cell_type": "code",
     "collapsed": false,
     "input": [
      "qi = Quaternion([1, 0, 0], 0)\n",
      "qj = Quaternion([0, 1, 0], 0)\n",
      "qk = Quaternion([0, 0, 1], 0)"
     ],
     "language": "python",
     "metadata": {},
     "outputs": [],
     "prompt_number": 4
    },
    {
     "cell_type": "code",
     "collapsed": false,
     "input": [
      "q_defs = [[qi, qi],\n",
      "          [qj, qj],\n",
      "          [qk, qk],\n",
      "          [qi, qj, qk],\n",
      "          [qi, qj],\n",
      "          [qj, qk],\n",
      "          [qk, qi]]\n",
      "eqs = []\n",
      "for q_def in q_defs:\n",
      "    if len(q_def) == 2:\n",
      "        prod = q_def[0] * q_def[1]\n",
      "    elif len(q_def) == 3:\n",
      "        prod = q_def[0] * q_def[1] * q_def[2]\n",
      "    eqs.append(' %s &= %s ' % (' \\otimes '.join(['(%s)' % q.latex() for q in q_def]), prod.latex()))\n",
      "\n",
      "display(Latex(r'\\begin{align} %s \\end{align}' % r' \\\\ '.join(eqs)))"
     ],
     "language": "python",
     "metadata": {},
     "outputs": [
      {
       "latex": [
        "\\begin{align}  (1 \\textbf{i} +0 \\textbf{j} +0 \\textbf{k} +0) \\otimes (1 \\textbf{i} +0 \\textbf{j} +0 \\textbf{k} +0) &= 0 \\textbf{i} +0 \\textbf{j} +0 \\textbf{k} -1  \\\\  (0 \\textbf{i} +1 \\textbf{j} +0 \\textbf{k} +0) \\otimes (0 \\textbf{i} +1 \\textbf{j} +0 \\textbf{k} +0) &= 0 \\textbf{i} +0 \\textbf{j} +0 \\textbf{k} -1  \\\\  (0 \\textbf{i} +0 \\textbf{j} +1 \\textbf{k} +0) \\otimes (0 \\textbf{i} +0 \\textbf{j} +1 \\textbf{k} +0) &= 0 \\textbf{i} +0 \\textbf{j} +0 \\textbf{k} -1  \\\\  (1 \\textbf{i} +0 \\textbf{j} +0 \\textbf{k} +0) \\otimes (0 \\textbf{i} +1 \\textbf{j} +0 \\textbf{k} +0) \\otimes (0 \\textbf{i} +0 \\textbf{j} +1 \\textbf{k} +0) &= 0 \\textbf{i} +0 \\textbf{j} +0 \\textbf{k} -1  \\\\  (1 \\textbf{i} +0 \\textbf{j} +0 \\textbf{k} +0) \\otimes (0 \\textbf{i} +1 \\textbf{j} +0 \\textbf{k} +0) &= 0 \\textbf{i} +0 \\textbf{j} +1 \\textbf{k} +0  \\\\  (0 \\textbf{i} +1 \\textbf{j} +0 \\textbf{k} +0) \\otimes (0 \\textbf{i} +0 \\textbf{j} +1 \\textbf{k} +0) &= 1 \\textbf{i} +0 \\textbf{j} +0 \\textbf{k} +0  \\\\  (0 \\textbf{i} +0 \\textbf{j} +1 \\textbf{k} +0) \\otimes (1 \\textbf{i} +0 \\textbf{j} +0 \\textbf{k} +0) &= 0 \\textbf{i} +1 \\textbf{j} +0 \\textbf{k} +0  \\end{align}"
       ],
       "metadata": {},
       "output_type": "display_data",
       "text": [
        "<IPython.core.display.Latex at 0x30d5690>"
       ]
      }
     ],
     "prompt_number": 5
    },
    {
     "cell_type": "heading",
     "level": 2,
     "metadata": {},
     "source": [
      "Rotational Quaternion"
     ]
    },
    {
     "cell_type": "markdown",
     "metadata": {},
     "source": [
      "Since a quaternion has 4 scalar quantities, there are an infinite number of quaternions that can be used to represent a single attitude.  For example, starting with a standard orientation with the body's axes aligned with the global coorinate axes and rotating 90 degrees about the z-axis is the same orientation as rotating 450 degrees and any $90 + n (360) \\deg$ for all integers n.  Depending on the situation this project attempts to keep the angle representation between $0 \\le x < 2\\pi$ or $-\\pi \\le x < \\pi$.\n",
      "\n",
      "An additional restriction that is placed on rotational quaternions is that the norm of the quaternion is equal to one for any attitude representation.\n",
      "\n",
      "$$\n",
      "\\begin{equation}\n",
      "        \\left\\| \\boldsymbol{q} \\right\\| = \\sqrt{\\boldsymbol{q_v} \\cdot \\boldsymbol{q_v} + q_0^2} = 1\n",
      "\\end{equation}\n",
      "$$"
     ]
    },
    {
     "cell_type": "heading",
     "level": 3,
     "metadata": {},
     "source": [
      "Creating a Rotational Quaternion"
     ]
    },
    {
     "cell_type": "markdown",
     "metadata": {},
     "source": [
      "For a rotation of $\\theta$ radians about the axis $[x, y, z]^T$, the corresponding rotation quaternion is defined as\n",
      "\n",
      "$$\n",
      "\\begin{equation}\n",
      "        \\begin{bmatrix} \\boldsymbol{q_v} \\\\ q_0 \\end{bmatrix} = \\begin{bmatrix} [x, y, z]^T \\sin(-\\theta/2)  \\\\ \\cos(-\\theta/2) \\end{bmatrix}\n",
      "\\end{equation}\n",
      "$$"
     ]
    },
    {
     "cell_type": "markdown",
     "metadata": {},
     "source": [
      "The negative $\\theta$ value for the angle is chosen to rotate the satellite's body instead of the standard positive usage which would rotate the global axes by the specified angle and in simulations with a fixed global reference frame would make TSat appear to be rotating in the opposite direction.\n"
     ]
    },
    {
     "cell_type": "markdown",
     "metadata": {},
     "source": [
      "![quaternion start](files/figures/quaternions/q_rotation_start.png) ![quaternion end](files/figures/quaternions/q_rotation_end.png)"
     ]
    },
    {
     "cell_type": "code",
     "collapsed": false,
     "input": [],
     "language": "python",
     "metadata": {},
     "outputs": []
    }
   ],
   "metadata": {}
  }
 ]
}