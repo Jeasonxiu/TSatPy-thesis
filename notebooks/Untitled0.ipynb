{
 "metadata": {
  "name": "",
  "signature": "sha256:20a7e1e645383313a60139825654c972804f6ca46ba3ba80cd9809d306a63045"
 },
 "nbformat": 3,
 "nbformat_minor": 0,
 "worksheets": [
  {
   "cells": [
    {
     "cell_type": "code",
     "collapsed": false,
     "input": [
      "import numpy as np\n",
      "from TSatPy import State"
     ],
     "language": "python",
     "metadata": {},
     "outputs": [],
     "prompt_number": 1
    },
    {
     "cell_type": "code",
     "collapsed": false,
     "input": [
      "from IPython.display import display, Math, Latex"
     ],
     "language": "python",
     "metadata": {},
     "outputs": [],
     "prompt_number": 5
    },
    {
     "cell_type": "code",
     "collapsed": false,
     "input": [
      "display(Math(q.latex()))"
     ],
     "language": "python",
     "metadata": {},
     "outputs": [
      {
       "latex": [
        "$$-0 \\boldsymbol{i} -0 \\boldsymbol{j} -0.382683 \\boldsymbol{k} +0.92388$$"
       ],
       "metadata": {},
       "output_type": "display_data",
       "text": [
        "<IPython.core.display.Math at 0x2b76d2824978>"
       ]
      }
     ],
     "prompt_number": 6
    },
    {
     "cell_type": "code",
     "collapsed": false,
     "input": [
      "import matplotlib.pyplot as plt\n",
      "from matplotlib.widgets import Slider\n",
      "\n",
      "fig, ax = plt.subplots()\n",
      "fig.subplots_adjust(bottom=0.3, left=0, top=1, right=1)\n",
      "\n",
      "text_template = '$\\delta \\mathbf{q} = %g \\mathbf{i} %+g \\mathbf{j} %+g \\mathbf{k} %+g'\n",
      "text = ax.text(0.5, 0.5, text_template % (0,0,0,0))\n",
      "\n",
      "sliders = []\n",
      "\n",
      "def on_change(val):\n",
      "    text.set_text(text_template % tuple([float(slider.val) for slider in sliders]))\n",
      "\n",
      "def make_slider(n):\n",
      "    labels = [\"$dq_0$\", \"$dq_3$\", \"$dq_2$\", \"$dq_1$\"]\n",
      "    slider_ax = plt.axes([0.1, 0.1 + n * 0.03, 0.8, 0.02])\n",
      "    slider = Slider(slider_ax, labels[n], -1, 1, valinit=0, color='#AAAAAA')\n",
      "    slider.on_changed(on_change)\n",
      "    return slider\n",
      "\n",
      "for n in range(4):\n",
      "    sliders.append(make_slider(n))\n",
      "plt.show()"
     ],
     "language": "python",
     "metadata": {},
     "outputs": [],
     "prompt_number": 36
    },
    {
     "cell_type": "code",
     "collapsed": false,
     "input": [],
     "language": "python",
     "metadata": {},
     "outputs": []
    }
   ],
   "metadata": {}
  }
 ]
}