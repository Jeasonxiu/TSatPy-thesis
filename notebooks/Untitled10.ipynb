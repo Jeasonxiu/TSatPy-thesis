{
 "metadata": {
  "name": "",
  "signature": "sha256:24378f8883f9575230e788763a54e46c4549a5e38c07469ec1665d21d751439f"
 },
 "nbformat": 3,
 "nbformat_minor": 0,
 "worksheets": [
  {
   "cells": [
    {
     "cell_type": "code",
     "collapsed": false,
     "input": [
      "%load_ext autoreload\n",
      "%autoreload 2"
     ],
     "language": "python",
     "metadata": {},
     "outputs": [],
     "prompt_number": 1
    },
    {
     "cell_type": "code",
     "collapsed": false,
     "input": [
      "import TSatPyViz\n",
      "from TSatPy import State"
     ],
     "language": "python",
     "metadata": {},
     "outputs": [],
     "prompt_number": 2
    },
    {
     "cell_type": "code",
     "collapsed": false,
     "input": [
      "qs = [\n",
      "    ([1,0,0], 0.1, '0.1 radian +x twist'),\n",
      "    ([1,0,0], -0.1, '-0.1 radian -x twist'),\n",
      "    ([1,1,0], 0.1, '0.1 radian twist about 1i+1j+0k'),\n",
      "    ([0.3,0.1,1], 1.5, 'half turn'),\n",
      "]\n",
      "\n",
      "for vector, radians, title in qs:\n",
      "    q = State.Quaternion(vector, radians=radians)\n",
      "    TSatPyViz.show(q, title)"
     ],
     "language": "python",
     "metadata": {},
     "outputs": [
      {
       "output_type": "stream",
       "stream": "stdout",
       "text": [
        "<Quaternion [-0.0499792 -0 -0], 0.99875>\n"
       ]
      },
      {
       "output_type": "stream",
       "stream": "stdout",
       "text": [
        "<Quaternion [0.0499792 0 0], 0.99875>\n"
       ]
      },
      {
       "output_type": "stream",
       "stream": "stdout",
       "text": [
        "<Quaternion [-0.0353406 -0.0353406 -0], 0.99875>\n"
       ]
      },
      {
       "output_type": "stream",
       "stream": "stdout",
       "text": [
        "<Quaternion [-0.194975 -0.0649917 -0.649917], 0.731689>\n"
       ]
      }
     ],
     "prompt_number": 4
    },
    {
     "cell_type": "code",
     "collapsed": false,
     "input": [],
     "language": "python",
     "metadata": {},
     "outputs": []
    }
   ],
   "metadata": {}
  }
 ]
}