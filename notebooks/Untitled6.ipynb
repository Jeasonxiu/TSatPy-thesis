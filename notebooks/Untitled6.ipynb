{
 "metadata": {
  "name": "",
  "signature": "sha256:a8c41d57df126d5ed183dd18711208664de66dbb3b7aaf423bd7a9d802262353"
 },
 "nbformat": 3,
 "nbformat_minor": 0,
 "worksheets": [
  {
   "cells": [
    {
     "cell_type": "code",
     "collapsed": false,
     "input": [
      "import numpy as np\n",
      "import matplotlib.pyplot as plt\n",
      "import matplotlib.animation as animation\n",
      "from mpl_toolkits.mplot3d import Axes3D\n",
      "from TSatPy import State\n",
      "\n",
      "\n",
      "def gen_frames(r):\n",
      "    def frames():\n",
      "        dq = State.Quaternion([0,0,1],radians=r)\n",
      "        q = State.Identity()\n",
      "        for _ in range(1000):\n",
      "            q *= dq\n",
      "            yield q\n",
      "    return frames\n",
      "\n",
      "        \n",
      "def func(q, series, time_text):\n",
      "    time_text.set_text('q = %s' % str(q))\n",
      "    \n",
      "    for name, line in series.items():\n",
      "        if name == 'rdot':\n",
      "            line.set_data(q.mat[2:4])\n",
      "            line.set_3d_properties(0)\n",
      "        else:\n",
      "            line.set_data(-q.mat[2:4])\n",
      "            line.set_3d_properties(0)\n",
      "\n",
      "           \n",
      "def series(ax):\n",
      "    s = {\n",
      "        'bdot': ax.plot([], [], 'bo', ms=10)[0],\n",
      "        'rdot': ax.plot([], [], 'ro', ms=10)[0],\n",
      "    }\n",
      "    \n",
      "    return s\n",
      "\n",
      "def main():\n",
      "    fig = plt.figure()\n",
      "    ax = fig.add_subplot(111, projection='3d', aspect='equal')\n",
      "\n",
      "    ax.set_ylim(-1, 1)\n",
      "    ax.set_xlim(-1, 1)\n",
      "    ax.set_zlim(-1, 1)\n",
      "\n",
      "    time_text = ax.text(0.05, 0.9, 0, '', transform=ax.transAxes)\n",
      "    \n",
      "    frames = gen_frames(0.5)\n",
      "    refresh_rate = 0.2\n",
      "    \n",
      "    kwargs = {\n",
      "        'fig': fig,\n",
      "        'func': func,\n",
      "        'frames': frames,\n",
      "        'blit': False, \n",
      "        'interval': float(refresh_rate) * 1000,\n",
      "        'fargs': [series(ax), time_text],\n",
      "    }\n",
      "    ani = animation.FuncAnimation(**kwargs)\n",
      "    \n",
      "    plt.show()\n",
      "\n",
      "main()"
     ],
     "language": "python",
     "metadata": {},
     "outputs": [
      {
       "output_type": "stream",
       "stream": "stderr",
       "text": [
        "/usr/lib/python3/dist-packages/gi/overrides/__init__.py:92: Warning: Source ID 4381 was not found when attempting to remove it\n",
        "  return fn(*args, **kwargs)\n"
       ]
      }
     ],
     "prompt_number": 26
    },
    {
     "cell_type": "code",
     "collapsed": false,
     "input": [],
     "language": "python",
     "metadata": {},
     "outputs": []
    }
   ],
   "metadata": {}
  }
 ]
}