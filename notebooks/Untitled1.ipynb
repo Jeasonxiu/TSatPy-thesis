{
 "metadata": {
  "name": "",
  "signature": "sha256:e3612ef956db8e03020d1168d60fcc6a02ed49d8d4c945c2a344e98665b6ded6"
 },
 "nbformat": 3,
 "nbformat_minor": 0,
 "worksheets": [
  {
   "cells": [
    {
     "cell_type": "code",
     "collapsed": false,
     "input": [
      "import numpy as np\n",
      "import matplotlib.pyplot as plt\n",
      "from mpl_toolkits.mplot3d import Axes3D"
     ],
     "language": "python",
     "metadata": {},
     "outputs": [],
     "prompt_number": 1
    },
    {
     "cell_type": "code",
     "collapsed": false,
     "input": [
      "class Body(object):\n",
      "    def __init__(self):\n",
      "        self.pts = {}\n",
      "\n",
      "    def add_path(self, name, ptype, pts):\n",
      "        self.pts[name] = {\n",
      "            'type': ptype,\n",
      "            'pts': pts,\n",
      "        }"
     ],
     "language": "python",
     "metadata": {},
     "outputs": [],
     "prompt_number": 2
    },
    {
     "cell_type": "code",
     "collapsed": false,
     "input": [
      "class TSat(Body):\n",
      "\n",
      "    def __init__(self, radius, adp_len, sdp_len):\n",
      "        super(TSat, self).__init__()\n",
      "        self.radius = radius\n",
      "        self.adp_len = adp_len\n",
      "        self.sdp_len = sdp_len\n",
      "        self.setup_body()\n",
      "        self.add_booms()\n",
      "\n",
      "    def add_booms(self):\n",
      "        count = 10\n",
      "        boom_len = 0.5\n",
      "        dx = boom_len / float(count)\n",
      "\n",
      "        zeros = np.empty(count + 1)\n",
      "        zeros.fill(0)\n",
      "\n",
      "        self.add_path('+x boom', 'line', \n",
      "            [np.arange(count + 1) * (self.sdp_len / float(count)) + self.radius,\n",
      "             zeros.copy(), \n",
      "             zeros.copy()])\n",
      "        self.add_path('+y boom', 'line', \n",
      "            [zeros.copy(), \n",
      "             np.arange(count + 1) * (self.sdp_len / float(count)) + self.radius, \n",
      "             zeros.copy()])\n",
      "        self.add_path('+z boom', 'line', \n",
      "            [zeros.copy(), \n",
      "             zeros.copy(), \n",
      "             np.arange(count + 1) * (self.adp_len / float(count)) + (self.radius * 0.05)])\n",
      "        self.add_path('-x boom', 'line', \n",
      "            [-(np.arange(count + 1) * (self.sdp_len / float(count)) + self.radius), \n",
      "             zeros.copy(), \n",
      "             zeros.copy()])\n",
      "        self.add_path('-y boom', 'line', \n",
      "            [zeros.copy(), \n",
      "             -(np.arange(count + 1) * (self.sdp_len / float(count)) + self.radius),\n",
      "             zeros.copy()])\n",
      "        self.add_path('-z boom', 'line', \n",
      "            [zeros.copy(), \n",
      "             zeros.copy(), \n",
      "             -(np.arange(count + 1) * (self.adp_len / float(count)) + (self.radius * 0.05))])\n",
      "\n",
      "    def setup_body(self):\n",
      "        phi = np.linspace(0, 2 * np.pi, 100)\n",
      "        r = np.linspace(0, 1, 100)\n",
      "\n",
      "        x = 0.5 * np.outer(np.cos(phi), r)\n",
      "        y = 0.5 * np.outer(np.sin(phi), r)\n",
      "        z = np.zeros([100,100])\n",
      "\n",
      "        self.add_path('body', 'surface', [x, y, z])"
     ],
     "language": "python",
     "metadata": {},
     "outputs": [],
     "prompt_number": 6
    },
    {
     "cell_type": "code",
     "collapsed": false,
     "input": [
      "def sim(models):\n",
      "    fig = plt.figure()\n",
      "    ax = fig.add_subplot(111, projection='3d', aspect='equal')\n",
      "\n",
      "    plots = []\n",
      "\n",
      "    for model, color, states in models:\n",
      "        viz = {\n",
      "            'series': {},\n",
      "            'states': states,\n",
      "        }\n",
      "        for name, data in model.pts.items():\n",
      "            if data['type'] == 'surface':\n",
      "                print(data['pts'][2].shape)\n",
      "                viz['series'][name] = ax.plot_surface(*data['pts'], color=color, rstride=10, \n",
      "                                            cstride=50, linewidth=1, alpha=0.4)\n",
      "            elif data['type'] == 'line':\n",
      "                viz['series'][name] = ax.plot(*data['pts'], color=color, linewidth=3, alpha=0.4)\n",
      "        plots.append(viz)\n",
      "    \n",
      "    def state_gen(models):\n",
      "        while True:\n",
      "            yield [next(m[2]) for m in models]\n",
      "            \n",
      "    \n",
      "        \n",
      "    plt.show()"
     ],
     "language": "python",
     "metadata": {},
     "outputs": [],
     "prompt_number": 22
    },
    {
     "cell_type": "code",
     "collapsed": false,
     "input": [
      "\n",
      "models = []\n",
      "models.append((TSat(radius=0.5, adp_len=0.1, sdp_len=1), 'b', iter([2, 3])))\n",
      "# models.append((TSat(radius=0.5, adp_len=0.1, sdp_len=1), 'r'))\n",
      "\n",
      "sim(models)\n"
     ],
     "language": "python",
     "metadata": {},
     "outputs": [
      {
       "output_type": "stream",
       "stream": "stdout",
       "text": [
        "(100, 100)\n"
       ]
      },
      {
       "output_type": "stream",
       "stream": "stderr",
       "text": [
        "/usr/lib/python3/dist-packages/gi/overrides/__init__.py:92: Warning: Source ID 269 was not found when attempting to remove it\n",
        "  return fn(*args, **kwargs)\n"
       ]
      }
     ],
     "prompt_number": 23
    },
    {
     "cell_type": "code",
     "collapsed": false,
     "input": [],
     "language": "python",
     "metadata": {},
     "outputs": []
    }
   ],
   "metadata": {}
  }
 ]
}