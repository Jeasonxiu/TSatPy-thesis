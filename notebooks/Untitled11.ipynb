{
 "metadata": {
  "name": "",
  "signature": "sha256:ca3b0b537ffbb589685f6e1a7fd697db46dbb8fda0ebbea12585af84b04380dd"
 },
 "nbformat": 3,
 "nbformat_minor": 0,
 "worksheets": [
  {
   "cells": [
    {
     "cell_type": "code",
     "collapsed": false,
     "input": [
      "from mpl_toolkits.mplot3d import axes3d\n",
      "import matplotlib.pyplot as plt\n",
      "import numpy as np\n",
      "from TSatPy.State import Quaternion\n",
      "\n",
      "def create_mesh(radius, sides):\n",
      "    pts = np.mat([\n",
      "        radius * np.cos(np.linspace(0, 2 * np.pi, sides + 1)),\n",
      "        radius * np.sin(np.linspace(0, 2 * np.pi, sides + 1)),\n",
      "        np.zeros(sides + 1),\n",
      "    ]).T\n",
      "    \n",
      "    return pts\n",
      "\n",
      "\n",
      "def show_me(pts):\n",
      "    fig=plt.figure()\n",
      "    ax = fig.add_subplot(111, projection='3d', aspect='equal')\n",
      "    \n",
      "    ax.plot(x, y, z, color=self.color, ls='-', linewidth=2, ms=10)\n",
      "    ax.plot_wireframe(X,-Y,Z)\n",
      "\n",
      "\n",
      "    ax.set_xlabel('x-axis')\n",
      "    ax.set_ylabel('y-axis')\n",
      "    ax.set_zlabel('z-axis')\n",
      "    ax.set_ylim(-1, 1)\n",
      "    ax.set_xlim(-1, 1)\n",
      "    ax.set_zlim(-1, 1)\n",
      "\n",
      "    plt.show()\n",
      "\n",
      "pts = create_mesh(0.5, 8)\n",
      "\n",
      "q = Quaternion([1,0,0], radians=np.pi/2)\n",
      "\n",
      "new_pts = q.rotate_points(pts)\n",
      "\n",
      "show_me(pts)\n"
     ],
     "language": "python",
     "metadata": {},
     "outputs": [
      {
       "output_type": "stream",
       "stream": "stdout",
       "text": [
        "[[  5.00000000e-01   0.00000000e+00   0.00000000e+00]\n",
        " [  3.53553391e-01   3.53553391e-01   0.00000000e+00]\n",
        " [  3.06161700e-17   5.00000000e-01   0.00000000e+00]\n",
        " [ -3.53553391e-01   3.53553391e-01   0.00000000e+00]\n",
        " [ -5.00000000e-01   6.12323400e-17   0.00000000e+00]\n",
        " [ -3.53553391e-01  -3.53553391e-01   0.00000000e+00]\n",
        " [ -9.18485099e-17  -5.00000000e-01   0.00000000e+00]\n",
        " [  3.53553391e-01  -3.53553391e-01   0.00000000e+00]\n",
        " [  5.00000000e-01  -1.22464680e-16   0.00000000e+00]]\n",
        "[[  5.00000000e-01   0.00000000e+00   0.00000000e+00]\n",
        " [  3.53553391e-01   7.85046229e-17   3.53553391e-01]\n",
        " [  3.06161700e-17   1.11022302e-16   5.00000000e-01]\n",
        " [ -3.53553391e-01   7.85046229e-17   3.53553391e-01]\n",
        " [ -5.00000000e-01   1.35963107e-32   6.12323400e-17]\n",
        " [ -3.53553391e-01  -7.85046229e-17  -3.53553391e-01]\n",
        " [ -9.18485099e-17  -1.11022302e-16  -5.00000000e-01]\n",
        " [  3.53553391e-01  -7.85046229e-17  -3.53553391e-01]\n",
        " [  5.00000000e-01  -2.71926215e-32  -1.22464680e-16]]\n"
       ]
      },
      {
       "ename": "NameError",
       "evalue": "name 'self' is not defined",
       "output_type": "pyerr",
       "traceback": [
        "\u001b[1;31m---------------------------------------------------------------------------\u001b[0m\n\u001b[1;31mNameError\u001b[0m                                 Traceback (most recent call last)",
        "\u001b[1;32m<ipython-input-64-72833fa0fd01>\u001b[0m in \u001b[0;36m<module>\u001b[1;34m()\u001b[0m\n\u001b[0;32m     40\u001b[0m \u001b[0mprint\u001b[0m\u001b[1;33m(\u001b[0m\u001b[0mnew_pts\u001b[0m\u001b[1;33m)\u001b[0m\u001b[1;33m\u001b[0m\u001b[0m\n\u001b[0;32m     41\u001b[0m \u001b[1;33m\u001b[0m\u001b[0m\n\u001b[1;32m---> 42\u001b[1;33m \u001b[0mshow_me\u001b[0m\u001b[1;33m(\u001b[0m\u001b[0mx\u001b[0m\u001b[1;33m,\u001b[0m\u001b[0my\u001b[0m\u001b[1;33m,\u001b[0m\u001b[0mz\u001b[0m\u001b[1;33m)\u001b[0m\u001b[1;33m\u001b[0m\u001b[0m\n\u001b[0m",
        "\u001b[1;32m<ipython-input-64-72833fa0fd01>\u001b[0m in \u001b[0;36mshow_me\u001b[1;34m(x, y, z)\u001b[0m\n\u001b[0;32m     18\u001b[0m     \u001b[0max\u001b[0m \u001b[1;33m=\u001b[0m \u001b[0mfig\u001b[0m\u001b[1;33m.\u001b[0m\u001b[0madd_subplot\u001b[0m\u001b[1;33m(\u001b[0m\u001b[1;36m111\u001b[0m\u001b[1;33m,\u001b[0m \u001b[0mprojection\u001b[0m\u001b[1;33m=\u001b[0m\u001b[1;34m'3d'\u001b[0m\u001b[1;33m,\u001b[0m \u001b[0maspect\u001b[0m\u001b[1;33m=\u001b[0m\u001b[1;34m'equal'\u001b[0m\u001b[1;33m)\u001b[0m\u001b[1;33m\u001b[0m\u001b[0m\n\u001b[0;32m     19\u001b[0m \u001b[1;33m\u001b[0m\u001b[0m\n\u001b[1;32m---> 20\u001b[1;33m     \u001b[0max\u001b[0m\u001b[1;33m.\u001b[0m\u001b[0mplot\u001b[0m\u001b[1;33m(\u001b[0m\u001b[0mx\u001b[0m\u001b[1;33m,\u001b[0m \u001b[0my\u001b[0m\u001b[1;33m,\u001b[0m \u001b[0mz\u001b[0m\u001b[1;33m,\u001b[0m \u001b[0mcolor\u001b[0m\u001b[1;33m=\u001b[0m\u001b[0mself\u001b[0m\u001b[1;33m.\u001b[0m\u001b[0mcolor\u001b[0m\u001b[1;33m,\u001b[0m \u001b[0mls\u001b[0m\u001b[1;33m=\u001b[0m\u001b[1;34m'-'\u001b[0m\u001b[1;33m,\u001b[0m \u001b[0mlinewidth\u001b[0m\u001b[1;33m=\u001b[0m\u001b[1;36m2\u001b[0m\u001b[1;33m,\u001b[0m \u001b[0mms\u001b[0m\u001b[1;33m=\u001b[0m\u001b[1;36m10\u001b[0m\u001b[1;33m)\u001b[0m\u001b[1;33m\u001b[0m\u001b[0m\n\u001b[0m\u001b[0;32m     21\u001b[0m     \u001b[0max\u001b[0m\u001b[1;33m.\u001b[0m\u001b[0mplot_wireframe\u001b[0m\u001b[1;33m(\u001b[0m\u001b[0mX\u001b[0m\u001b[1;33m,\u001b[0m\u001b[1;33m-\u001b[0m\u001b[0mY\u001b[0m\u001b[1;33m,\u001b[0m\u001b[0mZ\u001b[0m\u001b[1;33m)\u001b[0m\u001b[1;33m\u001b[0m\u001b[0m\n\u001b[0;32m     22\u001b[0m \u001b[1;33m\u001b[0m\u001b[0m\n",
        "\u001b[1;31mNameError\u001b[0m: name 'self' is not defined"
       ]
      }
     ],
     "prompt_number": 64
    },
    {
     "cell_type": "code",
     "collapsed": false,
     "input": [
      "np.zeros(3)"
     ],
     "language": "python",
     "metadata": {},
     "outputs": [
      {
       "metadata": {},
       "output_type": "pyout",
       "prompt_number": 62,
       "text": [
        "array([ 0.,  0.,  0.])"
       ]
      }
     ],
     "prompt_number": 62
    },
    {
     "cell_type": "code",
     "collapsed": false,
     "input": [],
     "language": "python",
     "metadata": {},
     "outputs": []
    }
   ],
   "metadata": {}
  }
 ]
}