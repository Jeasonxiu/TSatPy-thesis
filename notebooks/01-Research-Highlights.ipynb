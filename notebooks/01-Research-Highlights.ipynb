{
 "metadata": {
  "name": "",
  "signature": "sha256:c9b307860ce757a63bccc2472a47cde189f8cb173771f772430da2ab26bd4ca5"
 },
 "nbformat": 3,
 "nbformat_minor": 0,
 "worksheets": [
  {
   "cells": [
    {
     "cell_type": "code",
     "collapsed": false,
     "input": [
      "%%HTML\n",
      "<LINK rel=stylesheet type=\"text/css\" href=\"files/defense.css\">"
     ],
     "language": "python",
     "metadata": {},
     "outputs": [
      {
       "html": [
        "<LINK rel=stylesheet type=\"text/css\" href=\"files/defense.css\">"
       ],
       "metadata": {},
       "output_type": "display_data",
       "text": [
        "<IPython.core.display.HTML at 0x2aea43e4d9e8>"
       ]
      }
     ],
     "prompt_number": 1
    },
    {
     "cell_type": "code",
     "collapsed": false,
     "input": [
      "import TSatPyViz\n",
      "from TSatPy import State\n",
      "%load_ext autoreload\n",
      "%autoreload 2"
     ],
     "language": "python",
     "metadata": {},
     "outputs": [],
     "prompt_number": 2
    },
    {
     "cell_type": "markdown",
     "metadata": {},
     "source": [
      "<h1>Research Highlights</h1>\n",
      "\n",
      "* MATLAB\n",
      "    * Versions 1-4\n",
      "    * object oriented class definitions\n",
      "    * created runtime plotting libraries \n",
      "    * not a \"true\" programming language\n",
      "* Python\n",
      "    * Version 5 (TSatPy)\n",
      "    * \"Batteries Included\" language\n",
      "* Quaternions over Euler Angles\n",
      "    * Never require quaternion normalization"
     ]
    },
    {
     "cell_type": "markdown",
     "metadata": {},
     "source": [
      "# Quaternion Attitude State Representation\n",
      "\n",
      "Euler's Theorem\n",
      "\n",
      "If $\\boldsymbol{R}$ is a 3x3 orthogonal matrix $( \\boldsymbol{R}^T \\boldsymbol{R} = \\boldsymbol{R}\\boldsymbol{R}^T = \\boldsymbol{I} )$ and $\\boldsymbol{R}$ is proper $( det \\boldsymbol{R} = +1 )$, then there is a nonzero vector $\\boldsymbol{v}$ satisfying $\\boldsymbol{Rv} = \\boldsymbol{v}$\n",
      "\n",
      "The quaternion attitude is defined by an Euler axis of rotation $\\boldsymbol{\\hat{e}}$ and a rotation angle $\\theta$.\n",
      "\n",
      "$$\\boldsymbol{q} = \\boldsymbol{v} + q_0 = \\hat{\\boldsymbol{e}} \\sin \\left( \\frac{-\\theta}{2} \\right) + \\cos \\left( \\frac{-\\theta}{2} \\right)$$"
     ]
    },
    {
     "cell_type": "markdown",
     "metadata": {},
     "source": [
      "<h1>Visually confirm that the attitude representation is correct</h1>"
     ]
    },
    {
     "cell_type": "code",
     "collapsed": false,
     "input": [
      "qs = [\n",
      "    ([1,0,0], 0.1, '0.1 radian rotation about +x'),\n",
      "    ([1,0,0], -0.1, '-0.1 radian rotation about +x'),\n",
      "    ([1,1,0], 0.1, '0.1 radian rotation about $1\\mathbf{i} + 1\\mathbf{j} + 0\\mathbf{k}$'),\n",
      "    ([0.3,0.1,1], 5, '5 radian rotation about $0.3\\mathbf{i} + 0.1\\mathbf{j} + 1\\mathbf{k}$'),\n",
      "]\n",
      "\n",
      "for vector, radians, title in qs:\n",
      "    q = State.Quaternion(vector, radians=radians)\n",
      "    TSatPyViz.show(q, title)"
     ],
     "language": "python",
     "metadata": {},
     "outputs": [],
     "prompt_number": 3
    },
    {
     "cell_type": "markdown",
     "metadata": {},
     "source": [
      "<h1>Rigid Body Dynamics</h1>\n",
      "\n",
      "<div style=\"float: left\">\n",
      "<h1>Euler's Moment Equations</h1>\n",
      "<div class=\"latex\">$$\n",
      "  \\begin{align}\n",
      "    \\dot{\\omega}_{x}(t_{k}) & = \\frac{1}{I_x} \\left[ M_1(t_{k}) - (I_z - I_y) \\omega_{y}(t_k) \\omega_{z}(t_k) \\right] \\\\\n",
      "    \\dot{\\omega}_{y}(t_{k}) & = \\frac{1}{I_y} \\left[ M_2(t_{k}) - (I_x - I_z) \\omega_{x}(t_k) \\omega_{z}(t_k) \\right] \\\\\n",
      "    \\dot{\\omega}_{z}(t_{k}) & = \\frac{1}{I_z} \\left[ M_3(t_{k}) - (I_y - I_x) \\omega_{x}(t_k) \\omega_{y}(t_k) \\right] \\\\\n",
      "    & \\\\\n",
      "    \\boldsymbol{\\omega}(t_{k+1}) &= \\boldsymbol{\\omega}(t_{k}) + \\dot{\\boldsymbol{\\omega}}_{z}(t_{k}) (t_k - t_{k-1})\n",
      "  \\end{align}\n",
      "$$</div></div>\n",
      "\n",
      "<div style=\"float: right\">\n",
      "<h1>Quaternon Propagation</h1>\n",
      "<div class=\"latex\">$$\n",
      "\\begin{align}\n",
      "  \\boldsymbol{\\dot{q}}(t_k) &= \\frac{1}{2} \\boldsymbol{q}(t_k) \\otimes \\boldsymbol{\\omega}(t_k)\\\\\n",
      "  \\boldsymbol{q}(t_{k+1}) &= \\boldsymbol{q}(t_k) \\color{red}{\\boldsymbol{+}} \\boldsymbol{\\dot{q}}(t_k) (t_k - t_{k-1})\n",
      "\\end{align}\n",
      "$$</div></div>"
     ]
    },
    {
     "cell_type": "code",
     "collapsed": false,
     "input": [
      "TSatPyViz.dq_adjust()"
     ],
     "language": "python",
     "metadata": {},
     "outputs": [],
     "prompt_number": 5
    },
    {
     "cell_type": "markdown",
     "metadata": {},
     "source": [
      "<h1>What doesn't work with quaternions?</h1>\n",
      "\n",
      "* Luenberger Gains\n",
      "* PID State Estimators\n",
      "* PID Controllers\n",
      "* Sliding Mode Observers\n",
      "* Sliding Mode Controllers\n",
      "* Kalman Filters\n",
      "* Extended Kalman Filters\n",
      "* ...\n",
      "* Anything with $x_1 \\pm x_2$\n",
      "<p>&nbsp;</p>\n",
      "<p>&nbsp;</p>\n",
      "\n",
      "<div class=\"latex\">$$\n",
      "\\begin{align}\n",
      "    \\boldsymbol{\\hat{x}(k+1)} &= f(\\boldsymbol{\\hat{x}}(k)) \\color{red}{+} \\boldsymbol{K}(\\color{red}{\\boldsymbol{\\hat{x}}(k) - \\boldsymbol{x}(k)}) \\\\\n",
      "    \\\\\n",
      "    \\\\\n",
      "    \\boldsymbol{M}(k) &= \\boldsymbol{G}(\\color{red}{\\boldsymbol{\\hat{x}}(k) - \\boldsymbol{x}_d})\n",
      "\\end{align}\n",
      "$$<div>\n"
     ]
    },
    {
     "cell_type": "markdown",
     "metadata": {},
     "source": [
      "<h1>Valid Quaternion Operations</h1>\n",
      "\n",
      "<h2>Valid Quaternion Operation $\\iff$ Never need to normalize</h2>\n",
      "\n",
      "\n",
      "<table class=\"box-table-a\">\n",
      "<tr><th>Operation</th><th>Does</th></tr>\n",
      "<tr><td>$$\n",
      "\\boldsymbol{q} = \\boldsymbol{a} \\otimes \\boldsymbol{b} = \\boldsymbol{a}_v b_0 + \\boldsymbol{b}_v a_0 + \\boldsymbol{a}_v \\times \\boldsymbol{b}_v + a_0 b_0 - \\boldsymbol{a}_v \\cdot \\boldsymbol{b}_v\n",
      "$$</td><td>&quot;Add&quot; rotation $\\boldsymbol{a}$ onto rotation $\\boldsymbol{b}$</td></tr>\n",
      "<tr><td>$$\\boldsymbol{q}_e = \\boldsymbol{q}^* \\otimes \\boldsymbol{\\hat{q}}$$</td><td>Gives the rotation that will move $\\boldsymbol{\\hat{q}}$ to $\\boldsymbol{q}$</td></tr>\n",
      "</table>\n",
      "\n"
     ]
    },
    {
     "cell_type": "markdown",
     "metadata": {},
     "source": [
      "<h1>Quaternion Problems</h1>\n",
      "\n",
      "<table class=\"box-table-a\">\n",
      "<tr><th></th><th>Section</th><th>Given</th><th>Problem</th></tr>\n",
      "<tr><td>1</td><td>Propagation</td><td>Position $\\boldsymbol{q}(k)$ and velocity $\\boldsymbol{\\omega}(k)$</td><td>Predict $\\boldsymbol{q}(k+1)$</td></tr>\n",
      "<tr><td>2</td><td>Estimator/Controller</td><td>Where we are $\\boldsymbol{\\hat{q}}$ and where we should be $\\boldsymbol{q}, \\boldsymbol{q}_d$</td><td>Calculate $k(\\boldsymbol{q}^* \\otimes \\boldsymbol{\\hat{q}})$ where $0 < k < 1$</td></tr>\n",
      "<tr><td>3</td><td>Controller</td><td>Estimated attitude $\\boldsymbol{\\hat{q}}$</td><td>Quantify nutation $\\boldsymbol{q}_n$ where $\\boldsymbol{\\hat{q}} = \\boldsymbol{q}_n \\otimes \\boldsymbol{q}_r$</td></tr>\n",
      "<tr><td>4</td><td></td><td>Nutation $\\boldsymbol{q}_n$</td><td>Calculate nutation correction $\\boldsymbol{M}$</td></tr>\n",
      "</table>\n"
     ]
    },
    {
     "cell_type": "markdown",
     "metadata": {},
     "source": [
      "<h1>1) Quaternion Propagation</h1>\n",
      "<h2>Nikolas Trawny and Stergios I. Roumeliotis</h2>\n",
      "<h3>Indirect Kalman Filter for 3D Attitude Estimation A Tutorial for Quaternion Algebra</h3>\n",
      "\n",
      "Taylor Series Expansion:\n",
      "\n",
      "<div class=\"latex\">$$\n",
      "  \\begin{aligned}\n",
      "    \\boldsymbol{q}(t_{k+1}) &= ( \\boldsymbol{A} + \\boldsymbol{B} ) \\boldsymbol{q}(t_{k}) \\\\\n",
      "    \\text{where } \\boldsymbol{A} &= \\exp \\left( \\frac{\\Delta t_{k+1}}{2} \\boldsymbol{\\Omega} \\left[ \\boldsymbol{\\bar{\\omega}}(t_{k+1}) \\right] \\right)\\\\\n",
      "    \\boldsymbol{B} &= \\frac{1}{48} \\Delta t_{k+1}^2 \\Big(\n",
      "    \\boldsymbol{\\Omega} \\left[\\boldsymbol{\\omega}(t_{k+1}) \\right]\n",
      "    \\boldsymbol{\\Omega} \\left[\\boldsymbol{\\omega}(t_{k})   \\right] -\n",
      "    \\boldsymbol{\\Omega} \\left[\\boldsymbol{\\omega}(t_{k})   \\right]\n",
      "    \\boldsymbol{\\Omega} \\left[\\boldsymbol{\\omega}(t_{k+1}) \\right]\n",
      "      \\Big)\n",
      "  \\end{aligned}\n",
      "$$</div>\n",
      "\n",
      "<div class=\"cite\">Nikolas Trawny and Stergios I. Roumeliotis - Indirect Kalman Filter for 3D Attitude Estimation A Tutorial for Quaternion Algebra<a href=\"http://www-users.cs.umn.edu/~trawny/Publications/Quaternions_3D.pdf\">*</a></div>\n"
     ]
    },
    {
     "cell_type": "markdown",
     "metadata": {},
     "source": [
      "<table class=\"box-table-a\">\n",
      "<tr><th></th><th>Section</th><th>Given</th><th>Problem</th></tr>\n",
      "<tr><td>2</td><td>Estimator/Controller</td><td>Where we are $\\boldsymbol{\\hat{q}}$ and where we should be $\\boldsymbol{q}, \\boldsymbol{q}_d$</td><td>Calculate $k(\\boldsymbol{q}^* \\otimes \\boldsymbol{\\hat{q}})$ where $0 < k < 1$</td></tr>\n",
      "</table>\n",
      "\n",
      "<h2>Requirements for High Integrity</h2>\n",
      "<ul>\n",
      "<li>Adhere to the unit rotational quaternion restriction. (i.e. <strong>NEVER</strong> re-normalize)</li>\n",
      "<li>Do not modify the direction of the $\\boldsymbol{\\hat{e}}$ axis</li>\n",
      "<li>Scale $\\theta$ (not $q_0$) so a $4^o$ error can be intuitively scaled to down to a $1^o$ adjustment with a selected gain value of 0.25.</li>\n",
      "</ul>\n",
      "<h2>Theta Multiplier with Quaternion Vector Balancing (&copy;?)</h2>\n",
      "<div class=\"latex\" style=\"flush: right\">$$\n",
      "  \\begin{aligned}\n",
      "    \\boldsymbol{\\psi}(\\boldsymbol{q}, k) &= \\begin{bmatrix} \\boldsymbol{v} / \\gamma \\\\ \\cos ( k \\cdot \\cos^{-1} (q_0))  \\end{bmatrix} \\\\\n",
      "    \\text{where } \\gamma &= \\sqrt{\\frac{\\boldsymbol{v} \\bullet \\boldsymbol{v}}{\\sin^2 ( k \\cdot \\cos^{-1} (q_0))}}\n",
      "   \\end{aligned}\n",
      "$$</div>"
     ]
    },
    {
     "cell_type": "code",
     "collapsed": false,
     "input": [
      "vector = [1, 0, 1]\n",
      "radians = 1\n",
      "q = State.Quaternion(vector, radians=radians)\n",
      "TSatPyViz.show_tmqvb(q)"
     ],
     "language": "python",
     "metadata": {},
     "outputs": [],
     "prompt_number": 6
    },
    {
     "cell_type": "markdown",
     "metadata": {},
     "source": [
      "<h1>State Estimators</h1>\n",
      "\n",
      "<h1>PID</h1>\n",
      "<div class=\"latex\">\n",
      "$$\n",
      "  \\begin{align}\n",
      "    \\boldsymbol{\\hat{q}}(t_{k+1}) &= f(\\boldsymbol{\\hat{q}}(t_{k})) + K_{qp} \\boldsymbol{q}_{e}(t_k) + K_{qi} \\sum^k_0 \\boldsymbol{q}_{e}(t_k) + K_{qd}( \\boldsymbol{q}_{e}(t_{k-1}) - \\boldsymbol{q}_{e}(t_k))\\\\\n",
      "    \\boldsymbol{\\hat{q}}(t_{k+1}) &= \\boldsymbol{\\psi}\\left(\\boldsymbol{q}_{ed}(t_k), K_{qd}\\right) \\otimes \\boldsymbol{\\psi}\\big(\\boldsymbol{q}_{ei}(t_k), K_{qi}\\big) \\otimes \\boldsymbol{\\psi}(\\boldsymbol{q}_e(t_{k}), K_{qp})  \\otimes f(\\boldsymbol{\\hat{q}}(t_{k}))\n",
      "  \\end{align}\n",
      "$$</div>\n",
      "\n",
      "\n",
      "<h1>Sliding Mode Observer</h1>\n",
      "<div class=\"latex\">\n",
      "$$\n",
      "  \\begin{align}\n",
      "    \\boldsymbol{\\hat{q}}(t_{k+1}) &= f(\\boldsymbol{q}(t_k)) + \\boldsymbol{L} \\boldsymbol{q}_{e}(t_k) + \\boldsymbol{K}\\boldsymbol{1}_s \\big(\\boldsymbol{q}_{e}(t_k) \\big) \\\\\n",
      "    \\boldsymbol{\\hat{q}}(t_{k+1}) &= \\boldsymbol{\\psi} (\\boldsymbol{1}_s\\big(\\boldsymbol{q}_{e}(t_k)\\big), K) \\otimes \\boldsymbol{\\psi}(\\boldsymbol{q}_e(t_{k}), L)  \\otimes f(\\boldsymbol{q}(t_k)) \\\\\n",
      "  \\end{align}\n",
      "$$</div>\n"
     ]
    },
    {
     "cell_type": "code",
     "collapsed": false,
     "input": [
      "TSatPyViz.show_pid()"
     ],
     "language": "python",
     "metadata": {},
     "outputs": [],
     "prompt_number": 12
    },
    {
     "cell_type": "code",
     "collapsed": false,
     "input": [],
     "language": "python",
     "metadata": {},
     "outputs": []
    }
   ],
   "metadata": {}
  }
 ]
}