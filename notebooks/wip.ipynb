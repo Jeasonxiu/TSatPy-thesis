{
 "metadata": {
  "name": ""
 },
 "nbformat": 3,
 "nbformat_minor": 0,
 "worksheets": [
  {
   "cells": [
    {
     "cell_type": "code",
     "collapsed": false,
     "input": [
      "import os\n",
      "import json\n",
      "import time\n",
      "import requests\n",
      "from IPython.display import Latex, display"
     ],
     "language": "python",
     "metadata": {},
     "outputs": [],
     "prompt_number": 1
    },
    {
     "cell_type": "code",
     "collapsed": false,
     "input": [
      "with open(os.path.abspath('../bin/config.json')) as f:\n",
      "    cfg = json.load(f)"
     ],
     "language": "python",
     "metadata": {},
     "outputs": [],
     "prompt_number": 3
    },
    {
     "cell_type": "code",
     "collapsed": false,
     "input": [
      "BASE_URI = 'http://localhost:8083'\n",
      "def print_state():\n",
      "    r = requests.get('%s/plant/state' % BASE_URI)\n",
      "    state = r.json()\n",
      "    return display(Latex(r'\\begin{equation}q=%s, \\omega=%s\\end{equation}' % (state['q'], state['w'])))"
     ],
     "language": "python",
     "metadata": {},
     "outputs": [],
     "prompt_number": 4
    },
    {
     "cell_type": "code",
     "collapsed": false,
     "input": [
      "end_time = time.time() + 10\n",
      "while time.time() < end_time:\n",
      "    print_state()\n",
      "    time.sleep(1)"
     ],
     "language": "python",
     "metadata": {},
     "outputs": [
      {
       "latex": [
        "\\begin{equation}q=0 \\textbf{i} +0 \\textbf{j} +0.999315 \\textbf{k} -0.0370119, \\omega=0 \\textbf{i} +0 \\textbf{j} +1e-05 \\textbf{k}\\end{equation}"
       ],
       "metadata": {},
       "output_type": "display_data",
       "text": [
        "<IPython.core.display.Latex at 0x3be9dd0>"
       ]
      },
      {
       "latex": [
        "\\begin{equation}q=0 \\textbf{i} +0 \\textbf{j} +0.999934 \\textbf{k} +0.0115068, \\omega=0 \\textbf{i} +0 \\textbf{j} +1e-05 \\textbf{k}\\end{equation}"
       ],
       "metadata": {},
       "output_type": "display_data",
       "text": [
        "<IPython.core.display.Latex at 0x39d0d50>"
       ]
      },
      {
       "latex": [
        "\\begin{equation}q=0 \\textbf{i} +0 \\textbf{j} +0.998195 \\textbf{k} +0.0600484, \\omega=0 \\textbf{i} +0 \\textbf{j} +1e-05 \\textbf{k}\\end{equation}"
       ],
       "metadata": {},
       "output_type": "display_data",
       "text": [
        "<IPython.core.display.Latex at 0x39d0d50>"
       ]
      },
      {
       "latex": [
        "\\begin{equation}q=0 \\textbf{i} +0 \\textbf{j} +0.994097 \\textbf{k} +0.108498, \\omega=0 \\textbf{i} +0 \\textbf{j} +1e-05 \\textbf{k}\\end{equation}"
       ],
       "metadata": {},
       "output_type": "display_data",
       "text": [
        "<IPython.core.display.Latex at 0x39d0d50>"
       ]
      },
      {
       "latex": [
        "\\begin{equation}q=0 \\textbf{i} +0 \\textbf{j} +0.98764 \\textbf{k} +0.156741, \\omega=0 \\textbf{i} +0 \\textbf{j} +1e-05 \\textbf{k}\\end{equation}"
       ],
       "metadata": {},
       "output_type": "display_data",
       "text": [
        "<IPython.core.display.Latex at 0x39d0d50>"
       ]
      },
      {
       "latex": [
        "\\begin{equation}q=0 \\textbf{i} +0 \\textbf{j} +0.978833 \\textbf{k} +0.204661, \\omega=0 \\textbf{i} +0 \\textbf{j} +1e-05 \\textbf{k}\\end{equation}"
       ],
       "metadata": {},
       "output_type": "display_data",
       "text": [
        "<IPython.core.display.Latex at 0x39d0d50>"
       ]
      },
      {
       "latex": [
        "\\begin{equation}q=0 \\textbf{i} +0 \\textbf{j} +0.96769 \\textbf{k} +0.252143, \\omega=0 \\textbf{i} +0 \\textbf{j} +1e-05 \\textbf{k}\\end{equation}"
       ],
       "metadata": {},
       "output_type": "display_data",
       "text": [
        "<IPython.core.display.Latex at 0x39d0d50>"
       ]
      },
      {
       "latex": [
        "\\begin{equation}q=0 \\textbf{i} +0 \\textbf{j} +0.95423 \\textbf{k} +0.299074, \\omega=0 \\textbf{i} +0 \\textbf{j} +1e-05 \\textbf{k}\\end{equation}"
       ],
       "metadata": {},
       "output_type": "display_data",
       "text": [
        "<IPython.core.display.Latex at 0x39d0d50>"
       ]
      },
      {
       "latex": [
        "\\begin{equation}q=0 \\textbf{i} +0 \\textbf{j} +0.938478 \\textbf{k} +0.345338, \\omega=0 \\textbf{i} +0 \\textbf{j} +1e-05 \\textbf{k}\\end{equation}"
       ],
       "metadata": {},
       "output_type": "display_data",
       "text": [
        "<IPython.core.display.Latex at 0x39d0d50>"
       ]
      },
      {
       "latex": [
        "\\begin{equation}q=0 \\textbf{i} +0 \\textbf{j} +0.920465 \\textbf{k} +0.390824, \\omega=0 \\textbf{i} +0 \\textbf{j} +1e-05 \\textbf{k}\\end{equation}"
       ],
       "metadata": {},
       "output_type": "display_data",
       "text": [
        "<IPython.core.display.Latex at 0x39d0d50>"
       ]
      }
     ],
     "prompt_number": 6
    },
    {
     "cell_type": "code",
     "collapsed": false,
     "input": [
      "import sys\n",
      "import os\n",
      "import json"
     ],
     "language": "python",
     "metadata": {},
     "outputs": [],
     "prompt_number": 9
    },
    {
     "cell_type": "code",
     "collapsed": false,
     "input": [
      "with open(os.path.abspath('bin/config.json')) as f:\n",
      "    print json.load(f)"
     ],
     "language": "python",
     "metadata": {},
     "outputs": [
      {
       "output_type": "stream",
       "stream": "stdout",
       "text": [
        "{u'api_port': 8083, u'log_file': u'/tmp/tsatpy.log', u'api_host': u'localhost'}\n"
       ]
      }
     ],
     "prompt_number": 10
    },
    {
     "cell_type": "code",
     "collapsed": false,
     "input": [],
     "language": "python",
     "metadata": {},
     "outputs": []
    }
   ],
   "metadata": {}
  }
 ]
}