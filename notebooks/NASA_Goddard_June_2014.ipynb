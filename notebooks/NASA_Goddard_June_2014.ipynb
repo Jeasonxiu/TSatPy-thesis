{
 "metadata": {
  "name": "",
  "signature": "sha256:ffa8e47b2f58891119b8b60847815289b5aa2388a23e1afa9b514918b7fb2d2c"
 },
 "nbformat": 3,
 "nbformat_minor": 0,
 "worksheets": [
  {
   "cells": [
    {
     "cell_type": "code",
     "collapsed": false,
     "input": [
      "%%HTML\n",
      "<LINK rel=stylesheet type=\"text/css\" href=\"files/defense.css\">"
     ],
     "language": "python",
     "metadata": {
      "slideshow": {
       "slide_type": "slide"
      }
     },
     "outputs": [
      {
       "html": [
        "<LINK rel=stylesheet type=\"text/css\" href=\"files/defense.css\">"
       ],
       "metadata": {},
       "output_type": "display_data",
       "text": [
        "<IPython.core.display.HTML at 0x2b47acade2b0>"
       ]
      }
     ],
     "prompt_number": 5
    },
    {
     "cell_type": "code",
     "collapsed": false,
     "input": [
      "from IPython.display import IFrame\n",
      "import TSatPyViz\n",
      "from TSatPy import State\n",
      "%load_ext autoreload\n",
      "%autoreload 2"
     ],
     "language": "python",
     "metadata": {
      "slideshow": {
       "slide_type": "-"
      }
     },
     "outputs": [
      {
       "output_type": "stream",
       "stream": "stdout",
       "text": [
        "The autoreload extension is already loaded. To reload it, use:\n",
        "  %reload_ext autoreload\n"
       ]
      }
     ],
     "prompt_number": 6
    },
    {
     "cell_type": "markdown",
     "metadata": {
      "slideshow": {
       "slide_type": "slide"
      }
     },
     "source": [
      "<h1>TableSat IA</h1>\n",
      "<p>Master's Thesis</p>\n",
      "<h2>Development of a Modular Application for Analyzing Observer-Based Control Systems for NASA's Spin-Stabilized MMS Mission Spacecraft</h2>\n",
      "<p>&nbsp;</p>\n",
      "<h2>Math + Control Theory + Coding = years and years of fun</h2>\n",
      "<p>&nbsp;</p>\n",
      "<div style=\"float: left\">\n",
      "<p>Daniel R. Couture</p>\n",
      "<p>University of New Hampshire Mechanical Engineering</p>\n",
      "<p>Prof. May-Win Thein</p>\n",
      "<p>June 5th, 2014</p>\n",
      "<p>NASA Goddard Space Flight Center</p>\n",
      "</div>\n",
      "<div style=\"float: right\">\n",
      "<p>@MathYourLife</p>\n",
      "<p>github.com/MathYourLife</p>\n",
      "<p>vimeo.com/search?q=mathyourlife</p>\n",
      "</div>"
     ]
    },
    {
     "cell_type": "markdown",
     "metadata": {
      "slideshow": {
       "slide_type": "slide"
      }
     },
     "source": [
      "<h1>Thanks</h1>"
     ]
    },
    {
     "cell_type": "markdown",
     "metadata": {
      "slideshow": {
       "slide_type": "slide"
      }
     },
     "source": [
      "<h1>TableSat IA</h1>\n",
      "<p>&nbsp;</p>\n",
      "<p>&nbsp;</p>\n",
      "<div class=\"centering\">\n",
      "<div style=\"float: left\">\n",
      "<p>Physical model to capture and quantify boom dynamics.</p>\n",
      "<div class=\"crop\">\n",
      "<img src=\"files/tsat_media/defense_media/figures/tablesat/tsat_full_view.jpg\" alt=\"UNH TableSat IA\" />\n",
      "</div>\n",
      "</div>\n",
      "<div style=\"float: right\">\n",
      "<p>Analytical <strong>and</strong> Experimental ADCS</p>\n",
      "<div class=\"crop\">\n",
      "<img src=\"files/tsat_media/defense_media/figures/tablesat/ADCS_design.png\" alt=\"UNH TableSat IA\" />\n",
      "</div>\n",
      "</div>\n"
     ]
    },
    {
     "cell_type": "markdown",
     "metadata": {
      "slideshow": {
       "slide_type": "slide"
      }
     },
     "source": [
      "<h1>State Measurement</h1>\n",
      "<div class=\"centering\">\n",
      "    <img src=\"files/tsat_media/defense_media/figures/tablesat/attitude_calculation.png\" alt=\"UNH TableSat IA\" />\n",
      "</div>"
     ]
    },
    {
     "cell_type": "markdown",
     "metadata": {
      "slideshow": {
       "slide_type": "slide"
      }
     },
     "source": [
      "<h1>TableSat IA Experimental Boom Dynamics Blockers</h1>\n",
      "\n",
      "* Truster (Fan) \n",
      "* System Mass\n",
      "* Magnetometer Noise\n",
      "\n",
      "<p>&nbsp;</p>\n",
      "\n",
      "<div style=\"float: left\" class=\"crop\">\n",
      "<img src=\"files/tsat_media/originals/tsat_thrusters.jpg\" alt=\"TableSat IA Thrusters\" />\n",
      "</div>\n",
      "<div style=\"float: right\" class=\"crop\">\n",
      "<img src=\"files/tsat_media/originals/tam_calibration_191_degree_pts.png\" alt=\"TableSat IA Thrusters\" />\n",
      "</div>"
     ]
    },
    {
     "cell_type": "markdown",
     "metadata": {
      "slideshow": {
       "slide_type": "slide"
      }
     },
     "source": [
      "<h1>4 Matlab ADCS Versions</h1>\n",
      "\n",
      "* Object-oriented classes\n",
      "* Actuator Logic\n",
      "* Run-time visualizations\n",
      "    * <a href=\"files/tsat_media/originals/movies/pid-nutation-br-controller-disturbed.avi\">PID controller</a>\n",
      "    * <a href=\"files/tsat_media/originals/movies/ekf.avi\">EKF</a>\n",
      "* Matlab issues\n",
      "    * More complex coding = More Matlab \"monkey patching\"\n",
      "    * Simulink doesn't play nice with experimental setups\n",
      "    * Not open source ($, community, resources, ...)\n",
      "    * Debugging is painful"
     ]
    },
    {
     "cell_type": "markdown",
     "metadata": {
      "slideshow": {
       "slide_type": "slide"
      }
     },
     "source": [
      "<h1>Final Python ADCS Vesion</h1>\n",
      "\n",
      "\n",
      "Feature Set\n",
      "\n",
      "* Concurrent Estimation/Control Algorithms\n",
      "* Run-time interface\n",
      "* Variable System Clock\n",
      "* Adaptive Step Algorithms\n",
      "* Modular Design\n",
      "* Source Agnostic Control System\n",
      "* Open Source - MIT License"
     ]
    },
    {
     "cell_type": "markdown",
     "metadata": {
      "slideshow": {
       "slide_type": "slide"
      }
     },
     "source": [
      "<h1>Quaternion Additive Correction</h1>\n",
      "\n",
      "<p>Quaternon Propagation:</p>\n",
      "<div class=\"latex\">$$\n",
      "\\begin{align}\n",
      "  \\boldsymbol{\\dot{q}} &= \\frac{1}{2} \\boldsymbol{q} \\otimes \\boldsymbol{\\omega}\\\\\n",
      "  \\boldsymbol{q}(k+1) &= \\boldsymbol{q}(k) \\color{red}{+} \\boldsymbol{\\dot{q}}(k) \\Delta t\n",
      "\\end{align}\n",
      "$$</div>\n",
      "\n",
      "Issues in:\n",
      "\n",
      "* State Error\n",
      "* Luenberger Gains\n",
      "* PID State Estimators\n",
      "* PID Controllers\n",
      "* Sliding Mode Observers\n",
      "* Sliding Mode Controllers\n",
      "* Kalman Filters\n",
      "* Extended Kalman Filters\n",
      "* Integrals / Derivatives\n",
      "* ...\n"
     ]
    },
    {
     "cell_type": "code",
     "collapsed": true,
     "input": [
      "TSatPyViz.dq_adjust()"
     ],
     "language": "python",
     "metadata": {},
     "outputs": [
      {
       "output_type": "stream",
       "stream": "stderr",
       "text": [
        "/usr/lib/python3/dist-packages/gi/overrides/__init__.py:92: Warning: Source ID 2 was not found when attempting to remove it\n",
        "  return fn(*args, **kwargs)\n"
       ]
      }
     ],
     "prompt_number": 7
    },
    {
     "cell_type": "markdown",
     "metadata": {
      "slideshow": {
       "slide_type": "slide"
      }
     },
     "source": [
      "<h1>Quaternion Problems</h1>\n",
      "\n",
      "<table class=\"box-table-a\">\n",
      "<tr><th>Section</th><th>Given</th><th>Problem</th></tr>\n",
      "<tr><td>Propagation</td><td>Position $\\boldsymbol{q}(k)$ and velocity $\\boldsymbol{\\omega}(k)$</td><td>Predict $\\boldsymbol{q}(k+1)$</td></tr>\n",
      "<tr><td>Estimator/Controller</td><td>Where we are $\\boldsymbol{\\hat{q}}$ and where we should be $\\boldsymbol{q}, \\boldsymbol{q}_d$</td><td>Calculate $k(\\boldsymbol{q}^* \\otimes \\boldsymbol{\\hat{q}})$ where $0 < k < 1$</td></tr>\n",
      "<tr><td>Controller</td><td>Estimated attitude $\\boldsymbol{\\hat{q}}$</td><td>Quantify nutation $\\boldsymbol{q}_n$ where $\\boldsymbol{\\hat{q}} = \\boldsymbol{q}_n \\otimes \\boldsymbol{q}_r$</td></tr>\n",
      "<tr><td></td><td>Nutation $\\boldsymbol{q}_n$</td><td>Calculate nutation correction $\\boldsymbol{M}$</td></tr>\n",
      "</table>\n"
     ]
    },
    {
     "cell_type": "markdown",
     "metadata": {
      "slideshow": {
       "slide_type": "slide"
      }
     },
     "source": [
      "<h1>Valid Quaternion Operations</h1>\n",
      "\n",
      "<h2>Valid Quaternion Operation $\\iff$ Never need to re-normalize</h2>\n",
      "\n",
      "\n",
      "<table class=\"box-table-a\">\n",
      "<tr><th>Operation</th><th>Does</th></tr>\n",
      "<tr><td>$$\n",
      "\\boldsymbol{q} = \\boldsymbol{a} \\otimes \\boldsymbol{b} = \\boldsymbol{a}_v b_0 + \\boldsymbol{b}_v a_0 + \\boldsymbol{a}_v \\times \\boldsymbol{b}_v + a_0 b_0 - \\boldsymbol{a}_v \\cdot \\boldsymbol{b}_v\n",
      "$$</td><td>&quot;Add&quot; rotation $\\boldsymbol{a}$ onto rotation $\\boldsymbol{b}$</td></tr>\n",
      "<tr><td>$$\\boldsymbol{q}_e = \\boldsymbol{q}^* \\otimes \\boldsymbol{\\hat{q}}$$</td><td>Gives the rotation that will move $\\boldsymbol{\\hat{q}}$ to $\\boldsymbol{q}$</td></tr>\n",
      "</table>\n",
      "\n"
     ]
    },
    {
     "cell_type": "markdown",
     "metadata": {
      "slideshow": {
       "slide_type": "slide"
      }
     },
     "source": [
      "<h1>Quaternion Propagation</h1>\n",
      "<h2>Nikolas Trawny and Stergios I. Roumeliotis</h2>\n",
      "<h3>Indirect Kalman Filter for 3D Attitude Estimation A Tutorial for Quaternion Algebra</h3>\n",
      "\n",
      "Taylor Series Expansion:\n",
      "\n",
      "<div class=\"latex\">$$\n",
      "  \\begin{aligned}\n",
      "    \\boldsymbol{q}(t_{k+1}) &= ( \\boldsymbol{A} + \\boldsymbol{B} ) \\boldsymbol{q}(t_{k}) \\\\\n",
      "    \\text{where } \\boldsymbol{A} &= \\exp \\left( \\frac{\\Delta t_{k+1}}{2} \\boldsymbol{\\Omega} \\left[ \\boldsymbol{\\bar{\\omega}}(t_{k+1}) \\right] \\right)\\\\\n",
      "    \\boldsymbol{B} &= \\frac{1}{48} \\Delta t_{k+1}^2 \\Big(\n",
      "    \\boldsymbol{\\Omega} \\left[\\boldsymbol{\\omega}(t_{k+1}) \\right]\n",
      "    \\boldsymbol{\\Omega} \\left[\\boldsymbol{\\omega}(t_{k})   \\right] -\n",
      "    \\boldsymbol{\\Omega} \\left[\\boldsymbol{\\omega}(t_{k})   \\right]\n",
      "    \\boldsymbol{\\Omega} \\left[\\boldsymbol{\\omega}(t_{k+1}) \\right]\n",
      "      \\Big)\n",
      "  \\end{aligned}\n",
      "$$</div>\n",
      "\n",
      "<div class=\"cite\">Nikolas Trawny and Stergios I. Roumeliotis - Indirect Kalman Filter for 3D Attitude Estimation A Tutorial for Quaternion Algebra<a href=\"http://www-users.cs.umn.edu/~trawny/Publications/Quaternions_3D.pdf\">*</a></div>\n"
     ]
    },
    {
     "cell_type": "markdown",
     "metadata": {
      "slideshow": {
       "slide_type": "slide"
      }
     },
     "source": [
      "<h1>Theta Multiplier with Quaternion Vector Balancing</h1>\n",
      "\n",
      "<ul>\n",
      "<li>Adhere to the unit rotational quaternion restriction. (i.e. <strong>NEVER</strong>* re-normalize)</li>\n",
      "<li>Do not modify the direction of the $\\boldsymbol{\\hat{e}}$ axis</li>\n",
      "<li>Scale $\\theta$ (not $q_0$) so a $4^o$ error can be intuitively scaled to down to a $1^o$ adjustment with a selected gain value of 0.25.</li>\n",
      "</ul>\n",
      "\n",
      "<div class=\"latex\" style=\"flush: right\">$$\n",
      "  \\begin{aligned}\n",
      "    \\boldsymbol{\\psi}(\\boldsymbol{q}, K) &= \\begin{bmatrix} \\boldsymbol{v} / \\gamma \\\\ \\cos ( K \\cdot \\cos^{-1} (q_0))  \\end{bmatrix} \\\\\n",
      "    \\text{where } \\gamma &= \\sqrt{\\frac{\\boldsymbol{v} \\bullet \\boldsymbol{v}}{\\sin^2 ( K \\cdot \\cos^{-1} (q_0))}} \\\\\n",
      "   \\end{aligned}\n",
      "$$</div>\n",
      "<p>Luenberger Observer</p>\n",
      "<div class=\"latex\" style=\"flush: right\">$$\n",
      "  \\begin{aligned}\n",
      "    \\boldsymbol{\\hat{q}}(t_{k+1}) &= \\boldsymbol{\\psi}(\\boldsymbol{q}_e(t_{k}), K)  \\otimes f(\\boldsymbol{\\hat{q}}(t_{k})) \\\\\n",
      "    \\text{where } K &= \\text{scalar gain}\n",
      "   \\end{aligned}\n",
      "$$</div>\n"
     ]
    },
    {
     "cell_type": "code",
     "collapsed": false,
     "input": [
      "q = State.Quaternion(vector=[1, 1, 0], radians=1)\n",
      "TSatPyViz.show_tmqvb(q)"
     ],
     "language": "python",
     "metadata": {},
     "outputs": [
      {
       "output_type": "stream",
       "stream": "stderr",
       "text": [
        "/usr/lib/python3/dist-packages/gi/overrides/__init__.py:92: Warning: Source ID 571 was not found when attempting to remove it\n",
        "  return fn(*args, **kwargs)\n"
       ]
      }
     ],
     "prompt_number": 8
    },
    {
     "cell_type": "markdown",
     "metadata": {
      "slideshow": {
       "slide_type": "slide"
      }
     },
     "source": [
      "<h1>PID State Estimator</h1>\n",
      "<div class=\"latex\">\n",
      "$$\n",
      "  \\begin{align}\n",
      "    \\boldsymbol{\\hat{q}}(t_{k+1}) &= f(\\boldsymbol{\\hat{q}}(t_{k})) + K_{qp} \\boldsymbol{q}_{e}(t_k) + K_{qi} \\sum^k_0 \\boldsymbol{q}_{e}(t_k) + K_{qd}( \\boldsymbol{q}_{e}(t_{k-1}) - \\boldsymbol{q}_{e}(t_k))\\\\\n",
      "    & \\\\\n",
      "    \\boldsymbol{\\hat{q}}(t_{k+1}) &= \\boldsymbol{\\psi}\\left(\\boldsymbol{q}_{ed}(t_k), K_{qd}\\right) \\otimes \\boldsymbol{\\psi}\\big(\\boldsymbol{q}_{ei}(t_k), K_{qi}\\big) \\otimes \\boldsymbol{\\psi}(\\boldsymbol{q}_e(t_{k}), K_{qp})  \\otimes f(\\boldsymbol{\\hat{q}}(t_{k}))\n",
      "  \\end{align}\n",
      "$$</div>\n",
      "\n",
      "\n",
      "<h1>Sliding Mode Observer</h1>\n",
      "<div class=\"latex\">\n",
      "$$\n",
      "  \\begin{align}\n",
      "    \\boldsymbol{\\hat{q}}(t_{k+1}) &= f(\\boldsymbol{q}(t_k)) + \\boldsymbol{L} \\boldsymbol{q}_{e}(t_k) + \\boldsymbol{K}\\boldsymbol{1}_s \\big(\\boldsymbol{q}_{e}(t_k) \\big) \\\\\n",
      "    & \\\\\n",
      "    \\boldsymbol{\\hat{q}}(t_{k+1}) &= \\boldsymbol{\\psi} (\\boldsymbol{1}_s\\big(\\boldsymbol{q}_{e}(t_k)\\big), K) \\otimes \\boldsymbol{\\psi}(\\boldsymbol{q}_e(t_{k}), L)  \\otimes f(\\boldsymbol{q}(t_k)) \\\\\n",
      "  \\end{align}\n",
      "$$</div>\n",
      "\n",
      "<h2>Adaptive Time Step Quaternion Integral</h2>\n",
      "<div class=\"latex\">\n",
      "$$\n",
      "\\boldsymbol{q}_{ei}(t_k) = \\boldsymbol{\\psi}(\\boldsymbol{q}_e(t_{k}), \\Delta t_{k}) \\otimes \\boldsymbol{q}_{ei}(t_{k-1})\n",
      "$$</div>\n",
      "\n",
      "<h2>Adaptive Time Step Quaternion Derivative</h2>\n",
      "<div class=\"latex\">\n",
      "$$\n",
      "\\boldsymbol{q}_{ed}(t_k) = \\boldsymbol{\\psi}\\left(\\boldsymbol{q}_e(t_{k-1})^* \\otimes \\boldsymbol{q}_e(t_{k}), \\frac{1}{\\Delta t_{k}}\\right)\n",
      "$$</div>\n",
      "\n",
      "\n"
     ]
    },
    {
     "cell_type": "code",
     "collapsed": false,
     "input": [
      "TSatPyViz.show_pid()"
     ],
     "language": "python",
     "metadata": {},
     "outputs": [
      {
       "output_type": "stream",
       "stream": "stderr",
       "text": [
        "/usr/lib/python3/dist-packages/gi/overrides/__init__.py:92: Warning: Source ID 1167 was not found when attempting to remove it\n",
        "  return fn(*args, **kwargs)\n"
       ]
      }
     ],
     "prompt_number": 9
    },
    {
     "cell_type": "markdown",
     "metadata": {
      "slideshow": {
       "slide_type": "slide"
      }
     },
     "source": [
      "<h1>Quaternion Nutation Control</h1>\n",
      "\n",
      "<table class=\"box-table-a\">\n",
      "<tr><th>Section</th><th>Given</th><th>Problem</th></tr>\n",
      "<tr><td>Controller</td><td>Estimated attitude $\\boldsymbol{\\hat{q}}$</td><td>Quantify nutation $\\boldsymbol{q}_n$ where $\\boldsymbol{\\hat{q}} = \\boldsymbol{q}_n \\otimes \\boldsymbol{q}_r$</td></tr>\n",
      "</table>\n",
      "\n",
      "<div style=\"float: left\">\n",
      "    <h2>Quaternion $\\boldsymbol{\\hat{q}}$ defines the attitude as:</h2>\n",
      "    <img src=\"files/tsat_media/defense_media/figures/quaternions/decompose_pre.png\" alt=\"\" />\n",
      "</div>\n",
      "<div style=\"float: right\">\n",
      "    <h2>Controller should only care about nutation $\\boldsymbol{q}_n$:</h2>\n",
      "    <img src=\"files/tsat_media/defense_media/figures/quaternions/decompose_post.png\" alt=\"\" />\n",
      "</div>\n"
     ]
    },
    {
     "cell_type": "markdown",
     "metadata": {
      "slideshow": {
       "slide_type": "slide"
      }
     },
     "source": [
      "<h1>Decompose an Attitude into Rotation and Nutation Quaternions</h1>\n",
      "<div class=\"centering\">\n",
      "<div class=\"latex\">$$\n",
      "  \\begin{aligned}\n",
      "    \\boldsymbol{q} &= \\boldsymbol{q}_n \\otimes \\boldsymbol{q}_r \\\\\n",
      "    q_1 \\boldsymbol{i} + q_2 \\boldsymbol{j} + q_3 \\boldsymbol{k} + q_0 &= (q_{1n} \\boldsymbol{i} + q_{2n} \\boldsymbol{j} + q_{3n} \\boldsymbol{k} + q_{0n}) \\otimes (q_{1r} \\boldsymbol{i} + q_{2r} \\boldsymbol{j} + q_{3r} \\boldsymbol{k} + q_{0r}) \\\\\n",
      "    \\\\\n",
      "    \\text{where } & \\\\\n",
      "    \\\\\n",
      "    \\boldsymbol{q}_r &= \\begin{bmatrix} 0 \\\\ 0 \\\\ q_{3r} = \\frac{q_3}{q_{0n}} \\\\ q_{0r} = \\frac{q_0}{q_{0n}} \\end{bmatrix}, \\boldsymbol{q}_n = \\begin{bmatrix} q_{1n} = Q \\cdot q_{2n} \\\\ q_{2n} = \\sqrt{ \\frac{1  - q_3^2 - q_0^2}{Q^2 + 1} } \\\\ 0 \\\\ q_{0n} = \\sqrt{q_3^2 + q_0^2} \\end{bmatrix}  \\\\\n",
      "    Q &= \\frac{q_{0}q_{1} - q_{2}q_{3}}{q_{0}q_{2} + q_{1}q_{3}}\n",
      "  \\end{aligned}\n",
      "$$</div></div>"
     ]
    },
    {
     "cell_type": "code",
     "collapsed": false,
     "input": [
      "from TSatPy.State import Quaternion\n",
      "\n",
      "yaw = 0.2\n",
      "pitch = 0.1\n",
      "print(\"Creating an attitude with %g rad yaw and %g rad pitch.\\n\" % (yaw, pitch))\n",
      "\n",
      "q = Quaternion([0,1,0], radians=pitch) * Quaternion([0,0,1], radians=yaw)\n",
      "print(\"Estimator reports an attitude quaternion of:\")\n",
      "print(\"q:     %s\\n\" % (q))\n",
      "\n",
      "q_r, q_n = q.decompose()\n",
      "print(\"Controller decomposes the attitude and ignores the rotational component\")\n",
      "print(\"q_r:   %s\" % (q_r))\n",
      "print(\"q_n:   %s\" % (q_n))"
     ],
     "language": "python",
     "metadata": {
      "slideshow": {
       "slide_type": "slide"
      }
     },
     "outputs": [
      {
       "output_type": "stream",
       "stream": "stdout",
       "text": [
        "Creating an attitude with 0.2 rad yaw and 0.1 rad pitch.\n",
        "\n",
        "Estimator reports an attitude quaternion of:\n",
        "q:     <Quaternion [0.00498959 -0.0497295 -0.0997087], 0.993761>\n",
        "\n",
        "Controller decomposes the attitude and ignores the rotational component\n",
        "q_r:   <Quaternion [0 0 -0.0998334], 0.995004>\n",
        "q_n:   <Quaternion [-0 0.0499792 0], -0.99875>\n"
       ]
      }
     ],
     "prompt_number": 10
    },
    {
     "cell_type": "markdown",
     "metadata": {
      "slideshow": {
       "slide_type": "slide"
      }
     },
     "source": [
      "<h1>Quaternion Attitude Control (Nutation Control)</h1>\n",
      "\n",
      "<table class=\"box-table-a\">\n",
      "<tr><th>Section</th><th>Given</th><th>Problem</th></tr>\n",
      "<tr><td>Controller</td><td>Attitude error $\\boldsymbol{q}_e$</td><td>Calculate nutation correction $\\boldsymbol{M}$</td></tr>\n",
      "</table>\n",
      "\n",
      "<p>&nbsp;</p>\n",
      "<p>&nbsp;</p>\n",
      "\n",
      "<div style=\"float: left\">\n",
      "    <p>TableSat controller should only care about nutation $\\boldsymbol{q}_n$:</p>\n",
      "    <img src=\"files/tsat_media/defense_media/figures/quaternions/decompose_post.png\" alt=\"\" />\n",
      "</div>\n",
      "\n",
      "<div style=\"float: right\">\n",
      "\n",
      "<p>The proportional moment correction term is</p>\n",
      "<div class=\"latex\">\n",
      "$$\n",
      "\\begin{align}\n",
      "    \\boldsymbol{M} &= \\left[- 2k \\cdot \\cos^{-1} (q_{0e}) \\right] \\boldsymbol{\\hat{e}}_e \\\\\n",
      "    \\text{Where } &= \\boldsymbol{\\hat{e}} \\text{ is the Euler axis } \\boldsymbol{v}/|\n",
      "\\boldsymbol{v}|\\end{align}\n",
      "$$</div>\n",
      "</div>\n",
      "\n"
     ]
    },
    {
     "cell_type": "markdown",
     "metadata": {
      "slideshow": {
       "slide_type": "subslide"
      }
     },
     "source": [
      "<h1>PID Controller</h1>\n",
      "<div class=\"latex\">\n",
      "$$\n",
      "\\boldsymbol{M} = \\left[- 2K_{p} \\cos^{-1} (q_{0e}) \\right] \\boldsymbol{\\hat{e}}_e + \\left[- 2K_{i} \\cos^{-1} (q_{0ei}) \\right] \\boldsymbol{\\hat{e}}_{ei} + \\left[- 2K_{d} \\cos^{-1} (q_{0ed}) \\right] \\boldsymbol{\\hat{e}}_{ed}\n",
      "$$</div>\n",
      "\n",
      "<h1>SMC</h1>\n",
      "<div class=\"latex\">\n",
      "$$\n",
      "  \\begin{aligned}\n",
      "    \\boldsymbol{M} &= \\left[- 2L \\cos^{-1} (q_{0e}) \\right] \\boldsymbol{\\hat{e}}_e + \\left[ K sat \\left( \\frac{-2\\cos^{-1} (q_{0e})}{S_q} \\right) \\right] \\boldsymbol{\\hat{e}}_e \\\\\n",
      "  \\end{aligned}\n",
      "$$</div>\n",
      "\n"
     ]
    },
    {
     "cell_type": "markdown",
     "metadata": {
      "slideshow": {
       "slide_type": "slide"
      }
     },
     "source": [
      "<h1>Future Work</h1>\n",
      "\n",
      "* Quantify benefits to $\\boldsymbol{\\psi}(\\boldsymbol{q}, K)$ over traditional matrix control methods\n",
      "* EKF with scalar gain and $\\boldsymbol{\\psi}(\\boldsymbol{q}, K)$\n",
      "* Extend functionality of python system visualization\n",
      "* Apply ADCS to TableSat $N$ and other spin stabilized systems\n",
      "* More research into observer based controllers with $\\boldsymbol{\\psi}(\\boldsymbol{q}, K)$ and quaternion decomposition\n",
      "* Release TSatPy to <a href=\"https://github.com/MathYourLife?tab=repositories\">https://github.com/MathYourLife</a> under MIT open source license\n",
      "* Estimator / Controller scheduling\n",
      "* Improve unit test coverage for TSatPy\n",
      "* Coarse Sun Sensors sensor improvements"
     ]
    },
    {
     "cell_type": "markdown",
     "metadata": {
      "slideshow": {
       "slide_type": "slide"
      }
     },
     "source": [
      "<h1>Summary</h1>\n",
      "\n",
      "* Windows/Matlab boo\n",
      "* Linux/Python yay\n",
      "* TSat IA\n",
      "    * thrusters :(\n",
      "    * CSS :)\n",
      "    * TAM need better accuracy\n",
      "* Matlab plotting library (tPlot)\n",
      "* Robust ADCS in Python\n",
      "* $\\boldsymbol{\\psi}(\\boldsymbol{q}, K)$\n",
      "* Quaternion decomposition $\\boldsymbol{q} = \\boldsymbol{q}_n \\otimes \\boldsymbol{q}_r$\n",
      "* $\\boldsymbol{\\psi}(\\boldsymbol{q}, K)$-based PID state estimator, SMO, PID controller, SMC\n",
      "* $\\boldsymbol{\\psi}(\\boldsymbol{q}, K)$-based observer-based controller (SMO+SMC) with $\\boldsymbol{q}_n$"
     ]
    }
   ],
   "metadata": {}
  }
 ]
}