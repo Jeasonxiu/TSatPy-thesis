{
 "metadata": {
  "name": "",
  "signature": "sha256:24e4844da77b6e19fd6a2af74404fc89ef0377613fe15658c4405008dda65123"
 },
 "nbformat": 3,
 "nbformat_minor": 0,
 "worksheets": [
  {
   "cells": [
    {
     "cell_type": "markdown",
     "metadata": {},
     "source": [
      "# Generator of generators"
     ]
    },
    {
     "cell_type": "code",
     "collapsed": false,
     "input": [
      "models = [\n",
      "    (2, 'b', iter([1,2,3,4,5])),\n",
      "    (3, 'r', iter([9,8,7,6,0])),\n",
      "]\n",
      "\n",
      "def m_gen(models):\n",
      "    while True:\n",
      "        yield [next(m[2]) for m in models]\n",
      "    \n",
      "for s in m_gen(models):\n",
      "    print(s)"
     ],
     "language": "python",
     "metadata": {},
     "outputs": [
      {
       "output_type": "stream",
       "stream": "stdout",
       "text": [
        "[1, 9]\n",
        "[2, 8]\n",
        "[3, 7]\n",
        "[4, 6]\n",
        "[5, 0]\n"
       ]
      }
     ],
     "prompt_number": 24
    },
    {
     "cell_type": "code",
     "collapsed": false,
     "input": [],
     "language": "python",
     "metadata": {},
     "outputs": []
    }
   ],
   "metadata": {}
  }
 ]
}